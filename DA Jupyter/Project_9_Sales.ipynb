{
 "cells": [
  {
   "cell_type": "markdown",
   "metadata": {},
   "source": [
    "# Restaurant Sales Data "
   ]
  },
  {
   "cell_type": "code",
   "execution_count": 1,
   "metadata": {},
   "outputs": [
    {
     "data": {
      "text/html": [
       "<div>\n",
       "<style scoped>\n",
       "    .dataframe tbody tr th:only-of-type {\n",
       "        vertical-align: middle;\n",
       "    }\n",
       "\n",
       "    .dataframe tbody tr th {\n",
       "        vertical-align: top;\n",
       "    }\n",
       "\n",
       "    .dataframe thead th {\n",
       "        text-align: right;\n",
       "    }\n",
       "</style>\n",
       "<table border=\"1\" class=\"dataframe\">\n",
       "  <thead>\n",
       "    <tr style=\"text-align: right;\">\n",
       "      <th></th>\n",
       "      <th>Unnamed: 0</th>\n",
       "      <th>Unnamed: 1</th>\n",
       "      <th>Unnamed: 2</th>\n",
       "      <th>Unnamed: 3</th>\n",
       "      <th>Unnamed: 4</th>\n",
       "      <th>Unnamed: 5</th>\n",
       "      <th>Unnamed: 6</th>\n",
       "      <th>Unnamed: 7</th>\n",
       "      <th>Unnamed: 8</th>\n",
       "      <th>Unnamed: 9</th>\n",
       "    </tr>\n",
       "  </thead>\n",
       "  <tbody>\n",
       "    <tr>\n",
       "      <th>0</th>\n",
       "      <td>NaN</td>\n",
       "      <td>Order ID</td>\n",
       "      <td>Date</td>\n",
       "      <td>Product</td>\n",
       "      <td>Price</td>\n",
       "      <td>Quantity</td>\n",
       "      <td>Purchase Type</td>\n",
       "      <td>Payment Method</td>\n",
       "      <td>Manager</td>\n",
       "      <td>City</td>\n",
       "    </tr>\n",
       "    <tr>\n",
       "      <th>1</th>\n",
       "      <td>NaN</td>\n",
       "      <td>10452</td>\n",
       "      <td>7/11/2022</td>\n",
       "      <td>Fries</td>\n",
       "      <td>3.49</td>\n",
       "      <td>573.07</td>\n",
       "      <td>Online</td>\n",
       "      <td>Gift Card</td>\n",
       "      <td>Tom      Jackson</td>\n",
       "      <td>London</td>\n",
       "    </tr>\n",
       "    <tr>\n",
       "      <th>2</th>\n",
       "      <td>NaN</td>\n",
       "      <td>10453</td>\n",
       "      <td>7/11/2022</td>\n",
       "      <td>Beverages</td>\n",
       "      <td>2.95</td>\n",
       "      <td>745.76</td>\n",
       "      <td>Online</td>\n",
       "      <td>Gift Card</td>\n",
       "      <td>Pablo Perez</td>\n",
       "      <td>Madrid</td>\n",
       "    </tr>\n",
       "    <tr>\n",
       "      <th>3</th>\n",
       "      <td>NaN</td>\n",
       "      <td>10454</td>\n",
       "      <td>7/11/2022</td>\n",
       "      <td>Sides &amp; Other</td>\n",
       "      <td>4.99</td>\n",
       "      <td>200.40</td>\n",
       "      <td>In-store</td>\n",
       "      <td>Gift Card</td>\n",
       "      <td>Joao    Silva</td>\n",
       "      <td>Lisbon</td>\n",
       "    </tr>\n",
       "    <tr>\n",
       "      <th>4</th>\n",
       "      <td>NaN</td>\n",
       "      <td>10455</td>\n",
       "      <td>8/11/2022</td>\n",
       "      <td>Burgers</td>\n",
       "      <td>12.99</td>\n",
       "      <td>569.67</td>\n",
       "      <td>In-store</td>\n",
       "      <td>Credit Card</td>\n",
       "      <td>Walter Muller</td>\n",
       "      <td>Berlin</td>\n",
       "    </tr>\n",
       "    <tr>\n",
       "      <th>...</th>\n",
       "      <td>...</td>\n",
       "      <td>...</td>\n",
       "      <td>...</td>\n",
       "      <td>...</td>\n",
       "      <td>...</td>\n",
       "      <td>...</td>\n",
       "      <td>...</td>\n",
       "      <td>...</td>\n",
       "      <td>...</td>\n",
       "      <td>...</td>\n",
       "    </tr>\n",
       "    <tr>\n",
       "      <th>250</th>\n",
       "      <td>NaN</td>\n",
       "      <td>10709</td>\n",
       "      <td>28/12/2022</td>\n",
       "      <td>Sides &amp; Other</td>\n",
       "      <td>4.99</td>\n",
       "      <td>200.40</td>\n",
       "      <td>Drive-thru</td>\n",
       "      <td>Gift Card</td>\n",
       "      <td>Walter Muller</td>\n",
       "      <td>Berlin</td>\n",
       "    </tr>\n",
       "    <tr>\n",
       "      <th>251</th>\n",
       "      <td>NaN</td>\n",
       "      <td>10710</td>\n",
       "      <td>29/12/2022</td>\n",
       "      <td>Burgers</td>\n",
       "      <td>12.99</td>\n",
       "      <td>754.43</td>\n",
       "      <td>Drive-thru</td>\n",
       "      <td>Gift Card</td>\n",
       "      <td>Walter Muller</td>\n",
       "      <td>Berlin</td>\n",
       "    </tr>\n",
       "    <tr>\n",
       "      <th>252</th>\n",
       "      <td>NaN</td>\n",
       "      <td>10711</td>\n",
       "      <td>29/12/2022</td>\n",
       "      <td>Chicken Sandwiches</td>\n",
       "      <td>9.95</td>\n",
       "      <td>281.41</td>\n",
       "      <td>Drive-thru</td>\n",
       "      <td>Gift Card</td>\n",
       "      <td>Walter Muller</td>\n",
       "      <td>Berlin</td>\n",
       "    </tr>\n",
       "    <tr>\n",
       "      <th>253</th>\n",
       "      <td>NaN</td>\n",
       "      <td>10712</td>\n",
       "      <td>29/12/2022</td>\n",
       "      <td>Fries</td>\n",
       "      <td>3.49</td>\n",
       "      <td>630.37</td>\n",
       "      <td>Drive-thru</td>\n",
       "      <td>Gift Card</td>\n",
       "      <td>Walter Muller</td>\n",
       "      <td>Berlin</td>\n",
       "    </tr>\n",
       "    <tr>\n",
       "      <th>254</th>\n",
       "      <td>NaN</td>\n",
       "      <td>10713</td>\n",
       "      <td>29/12/2022</td>\n",
       "      <td>Beverages</td>\n",
       "      <td>2.95</td>\n",
       "      <td>677.97</td>\n",
       "      <td>Drive-thru</td>\n",
       "      <td>Gift Card</td>\n",
       "      <td>Walter Muller</td>\n",
       "      <td>Berlin</td>\n",
       "    </tr>\n",
       "  </tbody>\n",
       "</table>\n",
       "<p>255 rows × 10 columns</p>\n",
       "</div>"
      ],
      "text/plain": [
       "     Unnamed: 0 Unnamed: 1  Unnamed: 2          Unnamed: 3 Unnamed: 4  \\\n",
       "0           NaN   Order ID        Date             Product      Price   \n",
       "1           NaN      10452   7/11/2022               Fries       3.49   \n",
       "2           NaN      10453   7/11/2022           Beverages       2.95   \n",
       "3           NaN      10454   7/11/2022       Sides & Other       4.99   \n",
       "4           NaN      10455   8/11/2022             Burgers      12.99   \n",
       "..          ...        ...         ...                 ...        ...   \n",
       "250         NaN      10709  28/12/2022       Sides & Other       4.99   \n",
       "251         NaN      10710  29/12/2022             Burgers      12.99   \n",
       "252         NaN      10711  29/12/2022  Chicken Sandwiches       9.95   \n",
       "253         NaN      10712  29/12/2022               Fries       3.49   \n",
       "254         NaN      10713  29/12/2022           Beverages       2.95   \n",
       "\n",
       "    Unnamed: 5     Unnamed: 6      Unnamed: 7          Unnamed: 8 Unnamed: 9  \n",
       "0     Quantity  Purchase Type  Payment Method             Manager       City  \n",
       "1       573.07        Online        Gift Card    Tom      Jackson     London  \n",
       "2       745.76        Online        Gift Card         Pablo Perez     Madrid  \n",
       "3       200.40      In-store        Gift Card       Joao    Silva     Lisbon  \n",
       "4       569.67      In-store      Credit Card       Walter Muller     Berlin  \n",
       "..         ...            ...             ...                 ...        ...  \n",
       "250     200.40    Drive-thru        Gift Card       Walter Muller     Berlin  \n",
       "251     754.43    Drive-thru        Gift Card       Walter Muller     Berlin  \n",
       "252     281.41    Drive-thru        Gift Card       Walter Muller     Berlin  \n",
       "253     630.37    Drive-thru        Gift Card       Walter Muller     Berlin  \n",
       "254     677.97    Drive-thru        Gift Card       Walter Muller     Berlin  \n",
       "\n",
       "[255 rows x 10 columns]"
      ]
     },
     "execution_count": 1,
     "metadata": {},
     "output_type": "execute_result"
    }
   ],
   "source": [
    "import pandas as pd \n",
    "import numpy as np\n",
    "import matplotlib.pyplot as plt\n",
    "import seaborn as sns\n",
    "import warnings\n",
    "\n",
    "df = pd.read_csv(r\"D:\\programing\\DA\\My Test\\Data\\Sales_Data_project_9.csv\")\n",
    "df"
   ]
  },
  {
   "cell_type": "code",
   "execution_count": 2,
   "metadata": {},
   "outputs": [
    {
     "name": "stdout",
     "output_type": "stream",
     "text": [
      "<class 'pandas.core.frame.DataFrame'>\n",
      "RangeIndex: 255 entries, 0 to 254\n",
      "Data columns (total 10 columns):\n",
      " #   Column      Non-Null Count  Dtype  \n",
      "---  ------      --------------  -----  \n",
      " 0   Unnamed: 0  0 non-null      float64\n",
      " 1   Unnamed: 1  255 non-null    object \n",
      " 2   Unnamed: 2  255 non-null    object \n",
      " 3   Unnamed: 3  255 non-null    object \n",
      " 4   Unnamed: 4  255 non-null    object \n",
      " 5   Unnamed: 5  255 non-null    object \n",
      " 6   Unnamed: 6  255 non-null    object \n",
      " 7   Unnamed: 7  255 non-null    object \n",
      " 8   Unnamed: 8  255 non-null    object \n",
      " 9   Unnamed: 9  255 non-null    object \n",
      "dtypes: float64(1), object(9)\n",
      "memory usage: 20.1+ KB\n"
     ]
    }
   ],
   "source": [
    "df.info()"
   ]
  },
  {
   "cell_type": "markdown",
   "metadata": {},
   "source": [
    "Drop unwanted column"
   ]
  },
  {
   "cell_type": "code",
   "execution_count": 3,
   "metadata": {},
   "outputs": [],
   "source": [
    "df.drop(columns='Unnamed: 0',inplace=True)"
   ]
  },
  {
   "cell_type": "code",
   "execution_count": 4,
   "metadata": {},
   "outputs": [
    {
     "data": {
      "text/html": [
       "<div>\n",
       "<style scoped>\n",
       "    .dataframe tbody tr th:only-of-type {\n",
       "        vertical-align: middle;\n",
       "    }\n",
       "\n",
       "    .dataframe tbody tr th {\n",
       "        vertical-align: top;\n",
       "    }\n",
       "\n",
       "    .dataframe thead th {\n",
       "        text-align: right;\n",
       "    }\n",
       "</style>\n",
       "<table border=\"1\" class=\"dataframe\">\n",
       "  <thead>\n",
       "    <tr style=\"text-align: right;\">\n",
       "      <th></th>\n",
       "      <th>Unnamed: 1</th>\n",
       "      <th>Unnamed: 2</th>\n",
       "      <th>Unnamed: 3</th>\n",
       "      <th>Unnamed: 4</th>\n",
       "      <th>Unnamed: 5</th>\n",
       "      <th>Unnamed: 6</th>\n",
       "      <th>Unnamed: 7</th>\n",
       "      <th>Unnamed: 8</th>\n",
       "      <th>Unnamed: 9</th>\n",
       "    </tr>\n",
       "  </thead>\n",
       "  <tbody>\n",
       "    <tr>\n",
       "      <th>0</th>\n",
       "      <td>Order ID</td>\n",
       "      <td>Date</td>\n",
       "      <td>Product</td>\n",
       "      <td>Price</td>\n",
       "      <td>Quantity</td>\n",
       "      <td>Purchase Type</td>\n",
       "      <td>Payment Method</td>\n",
       "      <td>Manager</td>\n",
       "      <td>City</td>\n",
       "    </tr>\n",
       "    <tr>\n",
       "      <th>1</th>\n",
       "      <td>10452</td>\n",
       "      <td>7/11/2022</td>\n",
       "      <td>Fries</td>\n",
       "      <td>3.49</td>\n",
       "      <td>573.07</td>\n",
       "      <td>Online</td>\n",
       "      <td>Gift Card</td>\n",
       "      <td>Tom      Jackson</td>\n",
       "      <td>London</td>\n",
       "    </tr>\n",
       "    <tr>\n",
       "      <th>2</th>\n",
       "      <td>10453</td>\n",
       "      <td>7/11/2022</td>\n",
       "      <td>Beverages</td>\n",
       "      <td>2.95</td>\n",
       "      <td>745.76</td>\n",
       "      <td>Online</td>\n",
       "      <td>Gift Card</td>\n",
       "      <td>Pablo Perez</td>\n",
       "      <td>Madrid</td>\n",
       "    </tr>\n",
       "    <tr>\n",
       "      <th>3</th>\n",
       "      <td>10454</td>\n",
       "      <td>7/11/2022</td>\n",
       "      <td>Sides &amp; Other</td>\n",
       "      <td>4.99</td>\n",
       "      <td>200.40</td>\n",
       "      <td>In-store</td>\n",
       "      <td>Gift Card</td>\n",
       "      <td>Joao    Silva</td>\n",
       "      <td>Lisbon</td>\n",
       "    </tr>\n",
       "    <tr>\n",
       "      <th>4</th>\n",
       "      <td>10455</td>\n",
       "      <td>8/11/2022</td>\n",
       "      <td>Burgers</td>\n",
       "      <td>12.99</td>\n",
       "      <td>569.67</td>\n",
       "      <td>In-store</td>\n",
       "      <td>Credit Card</td>\n",
       "      <td>Walter Muller</td>\n",
       "      <td>Berlin</td>\n",
       "    </tr>\n",
       "  </tbody>\n",
       "</table>\n",
       "</div>"
      ],
      "text/plain": [
       "  Unnamed: 1 Unnamed: 2     Unnamed: 3 Unnamed: 4 Unnamed: 5     Unnamed: 6  \\\n",
       "0   Order ID       Date        Product      Price   Quantity  Purchase Type   \n",
       "1      10452  7/11/2022          Fries       3.49     573.07        Online    \n",
       "2      10453  7/11/2022      Beverages       2.95     745.76        Online    \n",
       "3      10454  7/11/2022  Sides & Other       4.99     200.40      In-store    \n",
       "4      10455  8/11/2022        Burgers      12.99     569.67      In-store    \n",
       "\n",
       "       Unnamed: 7          Unnamed: 8 Unnamed: 9  \n",
       "0  Payment Method             Manager       City  \n",
       "1       Gift Card    Tom      Jackson     London  \n",
       "2       Gift Card         Pablo Perez     Madrid  \n",
       "3       Gift Card       Joao    Silva     Lisbon  \n",
       "4     Credit Card       Walter Muller     Berlin  "
      ]
     },
     "execution_count": 4,
     "metadata": {},
     "output_type": "execute_result"
    }
   ],
   "source": [
    "df.head()"
   ]
  },
  {
   "cell_type": "markdown",
   "metadata": {},
   "source": [
    "Changing columns names\n"
   ]
  },
  {
   "cell_type": "code",
   "execution_count": 5,
   "metadata": {},
   "outputs": [
    {
     "data": {
      "text/html": [
       "<div>\n",
       "<style scoped>\n",
       "    .dataframe tbody tr th:only-of-type {\n",
       "        vertical-align: middle;\n",
       "    }\n",
       "\n",
       "    .dataframe tbody tr th {\n",
       "        vertical-align: top;\n",
       "    }\n",
       "\n",
       "    .dataframe thead th {\n",
       "        text-align: right;\n",
       "    }\n",
       "</style>\n",
       "<table border=\"1\" class=\"dataframe\">\n",
       "  <thead>\n",
       "    <tr style=\"text-align: right;\">\n",
       "      <th></th>\n",
       "      <th>Order ID</th>\n",
       "      <th>Date</th>\n",
       "      <th>Product</th>\n",
       "      <th>Price</th>\n",
       "      <th>Quantity</th>\n",
       "      <th>Purchase Type</th>\n",
       "      <th>Payment Method</th>\n",
       "      <th>Manager</th>\n",
       "      <th>City</th>\n",
       "    </tr>\n",
       "  </thead>\n",
       "  <tbody>\n",
       "    <tr>\n",
       "      <th>0</th>\n",
       "      <td>Order ID</td>\n",
       "      <td>Date</td>\n",
       "      <td>Product</td>\n",
       "      <td>Price</td>\n",
       "      <td>Quantity</td>\n",
       "      <td>Purchase Type</td>\n",
       "      <td>Payment Method</td>\n",
       "      <td>Manager</td>\n",
       "      <td>City</td>\n",
       "    </tr>\n",
       "    <tr>\n",
       "      <th>1</th>\n",
       "      <td>10452</td>\n",
       "      <td>7/11/2022</td>\n",
       "      <td>Fries</td>\n",
       "      <td>3.49</td>\n",
       "      <td>573.07</td>\n",
       "      <td>Online</td>\n",
       "      <td>Gift Card</td>\n",
       "      <td>Tom      Jackson</td>\n",
       "      <td>London</td>\n",
       "    </tr>\n",
       "    <tr>\n",
       "      <th>2</th>\n",
       "      <td>10453</td>\n",
       "      <td>7/11/2022</td>\n",
       "      <td>Beverages</td>\n",
       "      <td>2.95</td>\n",
       "      <td>745.76</td>\n",
       "      <td>Online</td>\n",
       "      <td>Gift Card</td>\n",
       "      <td>Pablo Perez</td>\n",
       "      <td>Madrid</td>\n",
       "    </tr>\n",
       "    <tr>\n",
       "      <th>3</th>\n",
       "      <td>10454</td>\n",
       "      <td>7/11/2022</td>\n",
       "      <td>Sides &amp; Other</td>\n",
       "      <td>4.99</td>\n",
       "      <td>200.40</td>\n",
       "      <td>In-store</td>\n",
       "      <td>Gift Card</td>\n",
       "      <td>Joao    Silva</td>\n",
       "      <td>Lisbon</td>\n",
       "    </tr>\n",
       "    <tr>\n",
       "      <th>4</th>\n",
       "      <td>10455</td>\n",
       "      <td>8/11/2022</td>\n",
       "      <td>Burgers</td>\n",
       "      <td>12.99</td>\n",
       "      <td>569.67</td>\n",
       "      <td>In-store</td>\n",
       "      <td>Credit Card</td>\n",
       "      <td>Walter Muller</td>\n",
       "      <td>Berlin</td>\n",
       "    </tr>\n",
       "  </tbody>\n",
       "</table>\n",
       "</div>"
      ],
      "text/plain": [
       "0  Order ID       Date        Product  Price  Quantity  Purchase Type  \\\n",
       "0  Order ID       Date        Product  Price  Quantity  Purchase Type   \n",
       "1     10452  7/11/2022          Fries   3.49    573.07        Online    \n",
       "2     10453  7/11/2022      Beverages   2.95    745.76        Online    \n",
       "3     10454  7/11/2022  Sides & Other   4.99    200.40      In-store    \n",
       "4     10455  8/11/2022        Burgers  12.99    569.67      In-store    \n",
       "\n",
       "0  Payment Method             Manager    City  \n",
       "0  Payment Method             Manager    City  \n",
       "1       Gift Card    Tom      Jackson  London  \n",
       "2       Gift Card         Pablo Perez  Madrid  \n",
       "3       Gift Card       Joao    Silva  Lisbon  \n",
       "4     Credit Card       Walter Muller  Berlin  "
      ]
     },
     "execution_count": 5,
     "metadata": {},
     "output_type": "execute_result"
    }
   ],
   "source": [
    "df.columns = df.loc[0]\n",
    "df.head()"
   ]
  },
  {
   "cell_type": "code",
   "execution_count": 6,
   "metadata": {},
   "outputs": [
    {
     "data": {
      "text/plain": [
       "Index(['Order ID', 'Date', 'Product', 'Price', 'Quantity', 'Purchase Type',\n",
       "       'Payment Method', 'Manager', 'City'],\n",
       "      dtype='object', name=0)"
      ]
     },
     "execution_count": 6,
     "metadata": {},
     "output_type": "execute_result"
    }
   ],
   "source": [
    "df.columns"
   ]
  },
  {
   "cell_type": "code",
   "execution_count": 7,
   "metadata": {},
   "outputs": [],
   "source": [
    "df.drop(0,inplace=True)"
   ]
  },
  {
   "cell_type": "code",
   "execution_count": 8,
   "metadata": {},
   "outputs": [
    {
     "data": {
      "text/html": [
       "<div>\n",
       "<style scoped>\n",
       "    .dataframe tbody tr th:only-of-type {\n",
       "        vertical-align: middle;\n",
       "    }\n",
       "\n",
       "    .dataframe tbody tr th {\n",
       "        vertical-align: top;\n",
       "    }\n",
       "\n",
       "    .dataframe thead th {\n",
       "        text-align: right;\n",
       "    }\n",
       "</style>\n",
       "<table border=\"1\" class=\"dataframe\">\n",
       "  <thead>\n",
       "    <tr style=\"text-align: right;\">\n",
       "      <th></th>\n",
       "      <th>Order ID</th>\n",
       "      <th>Date</th>\n",
       "      <th>Product</th>\n",
       "      <th>Price</th>\n",
       "      <th>Quantity</th>\n",
       "      <th>Purchase Type</th>\n",
       "      <th>Payment Method</th>\n",
       "      <th>Manager</th>\n",
       "      <th>City</th>\n",
       "    </tr>\n",
       "  </thead>\n",
       "  <tbody>\n",
       "    <tr>\n",
       "      <th>1</th>\n",
       "      <td>10452</td>\n",
       "      <td>7/11/2022</td>\n",
       "      <td>Fries</td>\n",
       "      <td>3.49</td>\n",
       "      <td>573.07</td>\n",
       "      <td>Online</td>\n",
       "      <td>Gift Card</td>\n",
       "      <td>Tom      Jackson</td>\n",
       "      <td>London</td>\n",
       "    </tr>\n",
       "    <tr>\n",
       "      <th>2</th>\n",
       "      <td>10453</td>\n",
       "      <td>7/11/2022</td>\n",
       "      <td>Beverages</td>\n",
       "      <td>2.95</td>\n",
       "      <td>745.76</td>\n",
       "      <td>Online</td>\n",
       "      <td>Gift Card</td>\n",
       "      <td>Pablo Perez</td>\n",
       "      <td>Madrid</td>\n",
       "    </tr>\n",
       "    <tr>\n",
       "      <th>3</th>\n",
       "      <td>10454</td>\n",
       "      <td>7/11/2022</td>\n",
       "      <td>Sides &amp; Other</td>\n",
       "      <td>4.99</td>\n",
       "      <td>200.40</td>\n",
       "      <td>In-store</td>\n",
       "      <td>Gift Card</td>\n",
       "      <td>Joao    Silva</td>\n",
       "      <td>Lisbon</td>\n",
       "    </tr>\n",
       "    <tr>\n",
       "      <th>4</th>\n",
       "      <td>10455</td>\n",
       "      <td>8/11/2022</td>\n",
       "      <td>Burgers</td>\n",
       "      <td>12.99</td>\n",
       "      <td>569.67</td>\n",
       "      <td>In-store</td>\n",
       "      <td>Credit Card</td>\n",
       "      <td>Walter Muller</td>\n",
       "      <td>Berlin</td>\n",
       "    </tr>\n",
       "    <tr>\n",
       "      <th>5</th>\n",
       "      <td>10456</td>\n",
       "      <td>8/11/2022</td>\n",
       "      <td>Chicken Sandwiches</td>\n",
       "      <td>9.95</td>\n",
       "      <td>201.01</td>\n",
       "      <td>In-store</td>\n",
       "      <td>Credit Card</td>\n",
       "      <td>Walter Muller</td>\n",
       "      <td>Berlin</td>\n",
       "    </tr>\n",
       "  </tbody>\n",
       "</table>\n",
       "</div>"
      ],
      "text/plain": [
       "0 Order ID       Date             Product  Price Quantity Purchase Type  \\\n",
       "1    10452  7/11/2022               Fries   3.49   573.07       Online    \n",
       "2    10453  7/11/2022           Beverages   2.95   745.76       Online    \n",
       "3    10454  7/11/2022       Sides & Other   4.99   200.40     In-store    \n",
       "4    10455  8/11/2022             Burgers  12.99   569.67     In-store    \n",
       "5    10456  8/11/2022  Chicken Sandwiches   9.95   201.01     In-store    \n",
       "\n",
       "0 Payment Method             Manager    City  \n",
       "1      Gift Card    Tom      Jackson  London  \n",
       "2      Gift Card         Pablo Perez  Madrid  \n",
       "3      Gift Card       Joao    Silva  Lisbon  \n",
       "4    Credit Card       Walter Muller  Berlin  \n",
       "5    Credit Card       Walter Muller  Berlin  "
      ]
     },
     "execution_count": 8,
     "metadata": {},
     "output_type": "execute_result"
    }
   ],
   "source": [
    "df.head()"
   ]
  },
  {
   "cell_type": "code",
   "execution_count": 9,
   "metadata": {},
   "outputs": [
    {
     "name": "stdout",
     "output_type": "stream",
     "text": [
      "<class 'pandas.core.frame.DataFrame'>\n",
      "RangeIndex: 254 entries, 1 to 254\n",
      "Data columns (total 9 columns):\n",
      " #   Column          Non-Null Count  Dtype \n",
      "---  ------          --------------  ----- \n",
      " 0   Order ID        254 non-null    object\n",
      " 1   Date            254 non-null    object\n",
      " 2   Product         254 non-null    object\n",
      " 3   Price           254 non-null    object\n",
      " 4   Quantity        254 non-null    object\n",
      " 5   Purchase Type   254 non-null    object\n",
      " 6   Payment Method  254 non-null    object\n",
      " 7   Manager         254 non-null    object\n",
      " 8   City            254 non-null    object\n",
      "dtypes: object(9)\n",
      "memory usage: 18.0+ KB\n"
     ]
    }
   ],
   "source": [
    "df.info()"
   ]
  },
  {
   "cell_type": "markdown",
   "metadata": {},
   "source": [
    "Consider the Manager Column"
   ]
  },
  {
   "cell_type": "code",
   "execution_count": 10,
   "metadata": {},
   "outputs": [
    {
     "data": {
      "text/plain": [
       "1        Tom      Jackson\n",
       "2             Pablo Perez\n",
       "3           Joao    Silva\n",
       "4           Walter Muller\n",
       "5           Walter Muller\n",
       "              ...        \n",
       "250         Walter Muller\n",
       "251         Walter Muller\n",
       "252         Walter Muller\n",
       "253         Walter Muller\n",
       "254         Walter Muller\n",
       "Name: Manager, Length: 254, dtype: object"
      ]
     },
     "execution_count": 10,
     "metadata": {},
     "output_type": "execute_result"
    }
   ],
   "source": [
    "df.Manager"
   ]
  },
  {
   "cell_type": "code",
   "execution_count": 46,
   "metadata": {},
   "outputs": [
    {
     "data": {
      "text/plain": [
       "array(['Tom      Jackson', '       Pablo Perez', 'Joao    Silva',\n",
       "       'Walter Muller', 'Remy    Monet', 'Remy Monet',\n",
       "       '       Remy Monet', 'Remy     Monet', 'Pablo Perez',\n",
       "       'Pablo   Perez', 'Pablo  Perez', 'Pablo    Perez', 'Joao Silva',\n",
       "       'Tom Jackson'], dtype=object)"
      ]
     },
     "execution_count": 46,
     "metadata": {},
     "output_type": "execute_result"
    }
   ],
   "source": [
    "df.Manager.unique()"
   ]
  },
  {
   "cell_type": "code",
   "execution_count": 59,
   "metadata": {},
   "outputs": [],
   "source": [
    "df['Manager'] = df['Manager'].str.strip().str.replace(r\"\\s+\", \" \", regex=True)"
   ]
  },
  {
   "cell_type": "code",
   "execution_count": 56,
   "metadata": {},
   "outputs": [
    {
     "data": {
      "text/plain": [
       "array(['Tom Jackson', 'Pablo Perez', 'Joao Silva', 'Walter Muller',\n",
       "       'Remy Monet'], dtype=object)"
      ]
     },
     "execution_count": 56,
     "metadata": {},
     "output_type": "execute_result"
    }
   ],
   "source": [
    "df.Manager.unique()"
   ]
  },
  {
   "cell_type": "code",
   "execution_count": 49,
   "metadata": {},
   "outputs": [
    {
     "data": {
      "application/vnd.microsoft.datawrangler.viewer.v0+json": {
       "columns": [
        {
         "name": "index",
         "rawType": "int64",
         "type": "integer"
        },
        {
         "name": "Order ID",
         "rawType": "int64",
         "type": "integer"
        },
        {
         "name": "Date",
         "rawType": "datetime64[ns]",
         "type": "datetime"
        },
        {
         "name": "Product",
         "rawType": "object",
         "type": "string"
        },
        {
         "name": "Price",
         "rawType": "float64",
         "type": "float"
        },
        {
         "name": "Quantity",
         "rawType": "int64",
         "type": "integer"
        },
        {
         "name": "Purchase Type",
         "rawType": "object",
         "type": "string"
        },
        {
         "name": "Payment Method",
         "rawType": "object",
         "type": "string"
        },
        {
         "name": "Manager",
         "rawType": "object",
         "type": "string"
        },
        {
         "name": "City",
         "rawType": "object",
         "type": "string"
        },
        {
         "name": "Revenue",
         "rawType": "float64",
         "type": "float"
        }
       ],
       "conversionMethod": "pd.DataFrame",
       "ref": "2d39dfb0-5d5b-4770-8bfe-bdedae018c8a",
       "rows": [
        [
         "1",
         "10452",
         "2022-11-07 00:00:00",
         "Fries",
         "3.49",
         "573",
         "Online ",
         " Gift Card",
         "Tom      Jackson",
         "London",
         "1999.7700000000002"
        ],
        [
         "2",
         "10453",
         "2022-11-07 00:00:00",
         "Beverages",
         "2.95",
         "745",
         "Online ",
         " Gift Card",
         "       Pablo Perez",
         "Madrid",
         "2197.75"
        ],
        [
         "3",
         "10454",
         "2022-11-07 00:00:00",
         "Sides & Other",
         "4.99",
         "200",
         "In-store ",
         " Gift Card",
         "Joao    Silva",
         "Lisbon",
         "998.0"
        ],
        [
         "4",
         "10455",
         "2022-11-08 00:00:00",
         "Burgers",
         "12.99",
         "569",
         "In-store ",
         " Credit Card",
         "Walter Muller",
         "Berlin",
         "7391.31"
        ],
        [
         "5",
         "10456",
         "2022-11-08 00:00:00",
         "Chicken Sandwiches",
         "9.95",
         "201",
         "In-store ",
         " Credit Card",
         "Walter Muller",
         "Berlin",
         "1999.9499999999998"
        ],
        [
         "6",
         "10457",
         "2022-11-08 00:00:00",
         "Fries",
         "3.49",
         "573",
         "In-store ",
         " Credit Card",
         "Remy    Monet",
         "Paris",
         "1999.7700000000002"
        ],
        [
         "7",
         "10459",
         "2022-11-08 00:00:00",
         "Sides & Other",
         "4.99",
         "200",
         "In-store ",
         " Credit Card",
         "Walter Muller",
         "Berlin",
         "998.0"
        ],
        [
         "8",
         "10460",
         "2022-11-09 00:00:00",
         "Burgers",
         "12.99",
         "554",
         "In-store ",
         " Credit Card",
         "Remy Monet",
         "Paris",
         "7196.46"
        ],
        [
         "9",
         "10461",
         "2022-11-09 00:00:00",
         "Chicken Sandwiches",
         "9.95",
         "201",
         "In-store ",
         " Credit Card",
         "Remy Monet",
         "Paris",
         "1999.9499999999998"
        ],
        [
         "10",
         "10462",
         "2022-11-09 00:00:00",
         "Fries",
         "3.49",
         "573",
         "In-store ",
         " Credit Card",
         "       Remy Monet",
         "Paris",
         "1999.7700000000002"
        ],
        [
         "11",
         "10463",
         "2022-11-09 00:00:00",
         "Beverages",
         "2.95",
         "677",
         "In-store ",
         " Credit Card",
         "       Remy Monet",
         "Paris",
         "1997.15"
        ],
        [
         "12",
         "10464",
         "2022-11-09 00:00:00",
         "Sides & Other",
         "4.99",
         "200",
         "In-store ",
         " Credit Card",
         "Remy     Monet",
         "Paris",
         "998.0"
        ],
        [
         "13",
         "10465",
         "2022-11-10 00:00:00",
         "Burgers",
         "12.99",
         "554",
         "In-store ",
         " Credit Card",
         "Pablo Perez",
         "Madrid",
         "7196.46"
        ],
        [
         "14",
         "10466",
         "2022-11-10 00:00:00",
         "Chicken Sandwiches",
         "9.95",
         "201",
         "In-store ",
         " Credit Card",
         "Pablo Perez",
         "Madrid",
         "1999.9499999999998"
        ],
        [
         "15",
         "10467",
         "2022-11-10 00:00:00",
         "Fries",
         "3.49",
         "573",
         "In-store ",
         " Credit Card",
         "Pablo Perez",
         "Madrid",
         "1999.7700000000002"
        ],
        [
         "16",
         "10468",
         "2022-11-10 00:00:00",
         "Beverages",
         "2.95",
         "677",
         "In-store ",
         " Credit Card",
         "       Pablo Perez",
         "Madrid",
         "1997.15"
        ],
        [
         "17",
         "10470",
         "2022-11-11 00:00:00",
         "Burgers",
         "12.99",
         "554",
         "In-store ",
         " Credit Card",
         "       Pablo Perez",
         "Madrid",
         "7196.46"
        ],
        [
         "18",
         "10471",
         "2022-11-11 00:00:00",
         "Chicken Sandwiches",
         "9.95",
         "201",
         "In-store ",
         " Credit Card",
         "       Pablo Perez",
         "Madrid",
         "1999.9499999999998"
        ],
        [
         "19",
         "10472",
         "2022-11-11 00:00:00",
         "Fries",
         "3.49",
         "630",
         "In-store ",
         " Credit Card",
         "Pablo   Perez",
         "Madrid",
         "2198.7000000000003"
        ],
        [
         "20",
         "10473",
         "2022-11-11 00:00:00",
         "Beverages",
         "2.95",
         "677",
         "In-store ",
         " Credit Card",
         "       Pablo Perez",
         "Madrid",
         "1997.15"
        ],
        [
         "21",
         "10474",
         "2022-11-11 00:00:00",
         "Sides & Other",
         "4.99",
         "200",
         "In-store ",
         " Credit Card",
         "       Pablo Perez",
         "Madrid",
         "998.0"
        ],
        [
         "22",
         "10475",
         "2022-11-12 00:00:00",
         "Burgers",
         "12.99",
         "523",
         "In-store ",
         " Credit Card",
         "       Pablo Perez",
         "Madrid",
         "6793.77"
        ],
        [
         "23",
         "10476",
         "2022-11-12 00:00:00",
         "Chicken Sandwiches",
         "9.95",
         "201",
         "In-store ",
         " Credit Card",
         "Pablo Perez",
         "Madrid",
         "1999.9499999999998"
        ],
        [
         "24",
         "10477",
         "2022-11-12 00:00:00",
         "Fries",
         "3.49",
         "630",
         "In-store ",
         " Credit Card",
         "Pablo  Perez",
         "Madrid",
         "2198.7000000000003"
        ],
        [
         "25",
         "10478",
         "2022-11-12 00:00:00",
         "Beverages",
         "2.95",
         "677",
         "In-store ",
         " Credit Card",
         "Pablo Perez",
         "Madrid",
         "1997.15"
        ],
        [
         "26",
         "10479",
         "2022-11-12 00:00:00",
         "Sides & Other",
         "4.99",
         "200",
         "In-store ",
         " Credit Card",
         "Pablo    Perez",
         "Madrid",
         "998.0"
        ],
        [
         "27",
         "10480",
         "2022-11-13 00:00:00",
         "Burgers",
         "12.99",
         "508",
         "In-store ",
         " Credit Card",
         "Pablo Perez",
         "Madrid",
         "6598.92"
        ],
        [
         "28",
         "10481",
         "2022-11-13 00:00:00",
         "Chicken Sandwiches",
         "9.95",
         "201",
         "In-store ",
         " Credit Card",
         "Pablo Perez",
         "Madrid",
         "1999.9499999999998"
        ],
        [
         "29",
         "10482",
         "2022-11-13 00:00:00",
         "Fries",
         "25.5",
         "630",
         "In-store ",
         " Credit Card",
         "Joao Silva",
         "Lisbon",
         "16065.0"
        ],
        [
         "30",
         "10486",
         "2022-11-14 00:00:00",
         "Chicken Sandwiches",
         "29.05",
         "201",
         "In-store ",
         " Credit Card",
         "Joao    Silva",
         "Lisbon",
         "5839.05"
        ],
        [
         "31",
         "10487",
         "2022-11-14 00:00:00",
         "Fries",
         "3.49",
         "630",
         "In-store ",
         " Credit Card",
         "Joao Silva",
         "Lisbon",
         "2198.7000000000003"
        ],
        [
         "32",
         "10488",
         "2022-11-14 00:00:00",
         "Beverages",
         "2.95",
         "677",
         "In-store ",
         " Credit Card",
         "Joao Silva",
         "Lisbon",
         "1997.15"
        ],
        [
         "33",
         "10489",
         "2022-11-14 00:00:00",
         "Sides & Other",
         "4.99",
         "200",
         "In-store ",
         " Credit Card",
         "Pablo Perez",
         "Madrid",
         "998.0"
        ],
        [
         "34",
         "10490",
         "2022-11-15 00:00:00",
         "Burgers",
         "12.99",
         "508",
         "In-store ",
         " Credit Card",
         "Pablo Perez",
         "Madrid",
         "6598.92"
        ],
        [
         "35",
         "10491",
         "2022-11-15 00:00:00",
         "Chicken Sandwiches",
         "9.95",
         "201",
         "In-store ",
         " Credit Card",
         "Pablo Perez",
         "Madrid",
         "1999.9499999999998"
        ],
        [
         "36",
         "10492",
         "2022-11-15 00:00:00",
         "Fries",
         "3.49",
         "573",
         "In-store ",
         " Credit Card",
         "Pablo Perez",
         "Madrid",
         "1999.7700000000002"
        ],
        [
         "37",
         "10493",
         "2022-11-15 00:00:00",
         "Beverages",
         "2.95",
         "677",
         "In-store ",
         " Credit Card",
         "Pablo Perez",
         "Madrid",
         "1997.15"
        ],
        [
         "38",
         "10494",
         "2022-11-15 00:00:00",
         "Sides & Other",
         "4.99",
         "200",
         "In-store ",
         " Credit Card",
         "Pablo Perez",
         "Madrid",
         "998.0"
        ],
        [
         "39",
         "10495",
         "2022-11-16 00:00:00",
         "Burgers",
         "12.99",
         "508",
         "In-store ",
         " Credit Card",
         "Pablo Perez",
         "Madrid",
         "6598.92"
        ],
        [
         "40",
         "10496",
         "2022-11-16 00:00:00",
         "Chicken Sandwiches",
         "9.95",
         "201",
         "In-store ",
         " Credit Card",
         "Pablo Perez",
         "Madrid",
         "1999.9499999999998"
        ],
        [
         "41",
         "10497",
         "2022-11-16 00:00:00",
         "Fries",
         "3.49",
         "573",
         "In-store ",
         " Credit Card",
         "Pablo Perez",
         "Madrid",
         "1999.7700000000002"
        ],
        [
         "42",
         "10498",
         "2022-11-16 00:00:00",
         "Beverages",
         "2.95",
         "677",
         "Drive-thru ",
         " Credit Card",
         "Pablo Perez",
         "Madrid",
         "1997.15"
        ],
        [
         "43",
         "10499",
         "2022-11-16 00:00:00",
         "Sides & Other",
         "4.99",
         "200",
         "Drive-thru ",
         " Credit Card",
         "Pablo Perez",
         "Madrid",
         "998.0"
        ],
        [
         "44",
         "10500",
         "2022-11-17 00:00:00",
         "Burgers",
         "12.99",
         "523",
         "Drive-thru ",
         " Credit Card",
         "Pablo Perez",
         "Madrid",
         "6793.77"
        ],
        [
         "45",
         "10501",
         "2022-11-17 00:00:00",
         "Chicken Sandwiches",
         "9.95",
         "201",
         "Drive-thru ",
         " Credit Card",
         "Pablo Perez",
         "Madrid",
         "1999.9499999999998"
        ],
        [
         "46",
         "10502",
         "2022-11-17 00:00:00",
         "Fries",
         "3.49",
         "630",
         "Drive-thru ",
         " Credit Card",
         "Pablo Perez",
         "Madrid",
         "2198.7000000000003"
        ],
        [
         "47",
         "10503",
         "2022-11-17 00:00:00",
         "Beverages",
         "2.95",
         "677",
         "Drive-thru ",
         " Credit Card",
         "Pablo Perez",
         "Madrid",
         "1997.15"
        ],
        [
         "48",
         "10504",
         "2022-11-17 00:00:00",
         "Sides & Other",
         "4.99",
         "200",
         "Drive-thru ",
         " Credit Card",
         "Pablo Perez",
         "Madrid",
         "998.0"
        ],
        [
         "49",
         "10505",
         "2022-11-18 00:00:00",
         "Burgers",
         "12.99",
         "538",
         "Drive-thru ",
         " Credit Card",
         "Pablo Perez",
         "Madrid",
         "6988.62"
        ],
        [
         "50",
         "10506",
         "2022-11-18 00:00:00",
         "Chicken Sandwiches",
         "9.95",
         "201",
         "Drive-thru ",
         " Credit Card",
         "Pablo Perez",
         "Madrid",
         "1999.9499999999998"
        ]
       ],
       "shape": {
        "columns": 10,
        "rows": 50
       }
      },
      "text/html": [
       "<div>\n",
       "<style scoped>\n",
       "    .dataframe tbody tr th:only-of-type {\n",
       "        vertical-align: middle;\n",
       "    }\n",
       "\n",
       "    .dataframe tbody tr th {\n",
       "        vertical-align: top;\n",
       "    }\n",
       "\n",
       "    .dataframe thead th {\n",
       "        text-align: right;\n",
       "    }\n",
       "</style>\n",
       "<table border=\"1\" class=\"dataframe\">\n",
       "  <thead>\n",
       "    <tr style=\"text-align: right;\">\n",
       "      <th></th>\n",
       "      <th>Order ID</th>\n",
       "      <th>Date</th>\n",
       "      <th>Product</th>\n",
       "      <th>Price</th>\n",
       "      <th>Quantity</th>\n",
       "      <th>Purchase Type</th>\n",
       "      <th>Payment Method</th>\n",
       "      <th>Manager</th>\n",
       "      <th>City</th>\n",
       "      <th>Revenue</th>\n",
       "    </tr>\n",
       "  </thead>\n",
       "  <tbody>\n",
       "    <tr>\n",
       "      <th>1</th>\n",
       "      <td>10452</td>\n",
       "      <td>2022-11-07</td>\n",
       "      <td>Fries</td>\n",
       "      <td>3.49</td>\n",
       "      <td>573</td>\n",
       "      <td>Online</td>\n",
       "      <td>Gift Card</td>\n",
       "      <td>Tom      Jackson</td>\n",
       "      <td>London</td>\n",
       "      <td>1999.77</td>\n",
       "    </tr>\n",
       "    <tr>\n",
       "      <th>2</th>\n",
       "      <td>10453</td>\n",
       "      <td>2022-11-07</td>\n",
       "      <td>Beverages</td>\n",
       "      <td>2.95</td>\n",
       "      <td>745</td>\n",
       "      <td>Online</td>\n",
       "      <td>Gift Card</td>\n",
       "      <td>Pablo Perez</td>\n",
       "      <td>Madrid</td>\n",
       "      <td>2197.75</td>\n",
       "    </tr>\n",
       "    <tr>\n",
       "      <th>3</th>\n",
       "      <td>10454</td>\n",
       "      <td>2022-11-07</td>\n",
       "      <td>Sides &amp; Other</td>\n",
       "      <td>4.99</td>\n",
       "      <td>200</td>\n",
       "      <td>In-store</td>\n",
       "      <td>Gift Card</td>\n",
       "      <td>Joao    Silva</td>\n",
       "      <td>Lisbon</td>\n",
       "      <td>998.00</td>\n",
       "    </tr>\n",
       "    <tr>\n",
       "      <th>4</th>\n",
       "      <td>10455</td>\n",
       "      <td>2022-11-08</td>\n",
       "      <td>Burgers</td>\n",
       "      <td>12.99</td>\n",
       "      <td>569</td>\n",
       "      <td>In-store</td>\n",
       "      <td>Credit Card</td>\n",
       "      <td>Walter Muller</td>\n",
       "      <td>Berlin</td>\n",
       "      <td>7391.31</td>\n",
       "    </tr>\n",
       "    <tr>\n",
       "      <th>5</th>\n",
       "      <td>10456</td>\n",
       "      <td>2022-11-08</td>\n",
       "      <td>Chicken Sandwiches</td>\n",
       "      <td>9.95</td>\n",
       "      <td>201</td>\n",
       "      <td>In-store</td>\n",
       "      <td>Credit Card</td>\n",
       "      <td>Walter Muller</td>\n",
       "      <td>Berlin</td>\n",
       "      <td>1999.95</td>\n",
       "    </tr>\n",
       "    <tr>\n",
       "      <th>6</th>\n",
       "      <td>10457</td>\n",
       "      <td>2022-11-08</td>\n",
       "      <td>Fries</td>\n",
       "      <td>3.49</td>\n",
       "      <td>573</td>\n",
       "      <td>In-store</td>\n",
       "      <td>Credit Card</td>\n",
       "      <td>Remy    Monet</td>\n",
       "      <td>Paris</td>\n",
       "      <td>1999.77</td>\n",
       "    </tr>\n",
       "    <tr>\n",
       "      <th>7</th>\n",
       "      <td>10459</td>\n",
       "      <td>2022-11-08</td>\n",
       "      <td>Sides &amp; Other</td>\n",
       "      <td>4.99</td>\n",
       "      <td>200</td>\n",
       "      <td>In-store</td>\n",
       "      <td>Credit Card</td>\n",
       "      <td>Walter Muller</td>\n",
       "      <td>Berlin</td>\n",
       "      <td>998.00</td>\n",
       "    </tr>\n",
       "    <tr>\n",
       "      <th>8</th>\n",
       "      <td>10460</td>\n",
       "      <td>2022-11-09</td>\n",
       "      <td>Burgers</td>\n",
       "      <td>12.99</td>\n",
       "      <td>554</td>\n",
       "      <td>In-store</td>\n",
       "      <td>Credit Card</td>\n",
       "      <td>Remy Monet</td>\n",
       "      <td>Paris</td>\n",
       "      <td>7196.46</td>\n",
       "    </tr>\n",
       "    <tr>\n",
       "      <th>9</th>\n",
       "      <td>10461</td>\n",
       "      <td>2022-11-09</td>\n",
       "      <td>Chicken Sandwiches</td>\n",
       "      <td>9.95</td>\n",
       "      <td>201</td>\n",
       "      <td>In-store</td>\n",
       "      <td>Credit Card</td>\n",
       "      <td>Remy Monet</td>\n",
       "      <td>Paris</td>\n",
       "      <td>1999.95</td>\n",
       "    </tr>\n",
       "    <tr>\n",
       "      <th>10</th>\n",
       "      <td>10462</td>\n",
       "      <td>2022-11-09</td>\n",
       "      <td>Fries</td>\n",
       "      <td>3.49</td>\n",
       "      <td>573</td>\n",
       "      <td>In-store</td>\n",
       "      <td>Credit Card</td>\n",
       "      <td>Remy Monet</td>\n",
       "      <td>Paris</td>\n",
       "      <td>1999.77</td>\n",
       "    </tr>\n",
       "    <tr>\n",
       "      <th>11</th>\n",
       "      <td>10463</td>\n",
       "      <td>2022-11-09</td>\n",
       "      <td>Beverages</td>\n",
       "      <td>2.95</td>\n",
       "      <td>677</td>\n",
       "      <td>In-store</td>\n",
       "      <td>Credit Card</td>\n",
       "      <td>Remy Monet</td>\n",
       "      <td>Paris</td>\n",
       "      <td>1997.15</td>\n",
       "    </tr>\n",
       "    <tr>\n",
       "      <th>12</th>\n",
       "      <td>10464</td>\n",
       "      <td>2022-11-09</td>\n",
       "      <td>Sides &amp; Other</td>\n",
       "      <td>4.99</td>\n",
       "      <td>200</td>\n",
       "      <td>In-store</td>\n",
       "      <td>Credit Card</td>\n",
       "      <td>Remy     Monet</td>\n",
       "      <td>Paris</td>\n",
       "      <td>998.00</td>\n",
       "    </tr>\n",
       "    <tr>\n",
       "      <th>13</th>\n",
       "      <td>10465</td>\n",
       "      <td>2022-11-10</td>\n",
       "      <td>Burgers</td>\n",
       "      <td>12.99</td>\n",
       "      <td>554</td>\n",
       "      <td>In-store</td>\n",
       "      <td>Credit Card</td>\n",
       "      <td>Pablo Perez</td>\n",
       "      <td>Madrid</td>\n",
       "      <td>7196.46</td>\n",
       "    </tr>\n",
       "    <tr>\n",
       "      <th>14</th>\n",
       "      <td>10466</td>\n",
       "      <td>2022-11-10</td>\n",
       "      <td>Chicken Sandwiches</td>\n",
       "      <td>9.95</td>\n",
       "      <td>201</td>\n",
       "      <td>In-store</td>\n",
       "      <td>Credit Card</td>\n",
       "      <td>Pablo Perez</td>\n",
       "      <td>Madrid</td>\n",
       "      <td>1999.95</td>\n",
       "    </tr>\n",
       "    <tr>\n",
       "      <th>15</th>\n",
       "      <td>10467</td>\n",
       "      <td>2022-11-10</td>\n",
       "      <td>Fries</td>\n",
       "      <td>3.49</td>\n",
       "      <td>573</td>\n",
       "      <td>In-store</td>\n",
       "      <td>Credit Card</td>\n",
       "      <td>Pablo Perez</td>\n",
       "      <td>Madrid</td>\n",
       "      <td>1999.77</td>\n",
       "    </tr>\n",
       "    <tr>\n",
       "      <th>16</th>\n",
       "      <td>10468</td>\n",
       "      <td>2022-11-10</td>\n",
       "      <td>Beverages</td>\n",
       "      <td>2.95</td>\n",
       "      <td>677</td>\n",
       "      <td>In-store</td>\n",
       "      <td>Credit Card</td>\n",
       "      <td>Pablo Perez</td>\n",
       "      <td>Madrid</td>\n",
       "      <td>1997.15</td>\n",
       "    </tr>\n",
       "    <tr>\n",
       "      <th>17</th>\n",
       "      <td>10470</td>\n",
       "      <td>2022-11-11</td>\n",
       "      <td>Burgers</td>\n",
       "      <td>12.99</td>\n",
       "      <td>554</td>\n",
       "      <td>In-store</td>\n",
       "      <td>Credit Card</td>\n",
       "      <td>Pablo Perez</td>\n",
       "      <td>Madrid</td>\n",
       "      <td>7196.46</td>\n",
       "    </tr>\n",
       "    <tr>\n",
       "      <th>18</th>\n",
       "      <td>10471</td>\n",
       "      <td>2022-11-11</td>\n",
       "      <td>Chicken Sandwiches</td>\n",
       "      <td>9.95</td>\n",
       "      <td>201</td>\n",
       "      <td>In-store</td>\n",
       "      <td>Credit Card</td>\n",
       "      <td>Pablo Perez</td>\n",
       "      <td>Madrid</td>\n",
       "      <td>1999.95</td>\n",
       "    </tr>\n",
       "    <tr>\n",
       "      <th>19</th>\n",
       "      <td>10472</td>\n",
       "      <td>2022-11-11</td>\n",
       "      <td>Fries</td>\n",
       "      <td>3.49</td>\n",
       "      <td>630</td>\n",
       "      <td>In-store</td>\n",
       "      <td>Credit Card</td>\n",
       "      <td>Pablo   Perez</td>\n",
       "      <td>Madrid</td>\n",
       "      <td>2198.70</td>\n",
       "    </tr>\n",
       "    <tr>\n",
       "      <th>20</th>\n",
       "      <td>10473</td>\n",
       "      <td>2022-11-11</td>\n",
       "      <td>Beverages</td>\n",
       "      <td>2.95</td>\n",
       "      <td>677</td>\n",
       "      <td>In-store</td>\n",
       "      <td>Credit Card</td>\n",
       "      <td>Pablo Perez</td>\n",
       "      <td>Madrid</td>\n",
       "      <td>1997.15</td>\n",
       "    </tr>\n",
       "    <tr>\n",
       "      <th>21</th>\n",
       "      <td>10474</td>\n",
       "      <td>2022-11-11</td>\n",
       "      <td>Sides &amp; Other</td>\n",
       "      <td>4.99</td>\n",
       "      <td>200</td>\n",
       "      <td>In-store</td>\n",
       "      <td>Credit Card</td>\n",
       "      <td>Pablo Perez</td>\n",
       "      <td>Madrid</td>\n",
       "      <td>998.00</td>\n",
       "    </tr>\n",
       "    <tr>\n",
       "      <th>22</th>\n",
       "      <td>10475</td>\n",
       "      <td>2022-11-12</td>\n",
       "      <td>Burgers</td>\n",
       "      <td>12.99</td>\n",
       "      <td>523</td>\n",
       "      <td>In-store</td>\n",
       "      <td>Credit Card</td>\n",
       "      <td>Pablo Perez</td>\n",
       "      <td>Madrid</td>\n",
       "      <td>6793.77</td>\n",
       "    </tr>\n",
       "    <tr>\n",
       "      <th>23</th>\n",
       "      <td>10476</td>\n",
       "      <td>2022-11-12</td>\n",
       "      <td>Chicken Sandwiches</td>\n",
       "      <td>9.95</td>\n",
       "      <td>201</td>\n",
       "      <td>In-store</td>\n",
       "      <td>Credit Card</td>\n",
       "      <td>Pablo Perez</td>\n",
       "      <td>Madrid</td>\n",
       "      <td>1999.95</td>\n",
       "    </tr>\n",
       "    <tr>\n",
       "      <th>24</th>\n",
       "      <td>10477</td>\n",
       "      <td>2022-11-12</td>\n",
       "      <td>Fries</td>\n",
       "      <td>3.49</td>\n",
       "      <td>630</td>\n",
       "      <td>In-store</td>\n",
       "      <td>Credit Card</td>\n",
       "      <td>Pablo  Perez</td>\n",
       "      <td>Madrid</td>\n",
       "      <td>2198.70</td>\n",
       "    </tr>\n",
       "    <tr>\n",
       "      <th>25</th>\n",
       "      <td>10478</td>\n",
       "      <td>2022-11-12</td>\n",
       "      <td>Beverages</td>\n",
       "      <td>2.95</td>\n",
       "      <td>677</td>\n",
       "      <td>In-store</td>\n",
       "      <td>Credit Card</td>\n",
       "      <td>Pablo Perez</td>\n",
       "      <td>Madrid</td>\n",
       "      <td>1997.15</td>\n",
       "    </tr>\n",
       "    <tr>\n",
       "      <th>26</th>\n",
       "      <td>10479</td>\n",
       "      <td>2022-11-12</td>\n",
       "      <td>Sides &amp; Other</td>\n",
       "      <td>4.99</td>\n",
       "      <td>200</td>\n",
       "      <td>In-store</td>\n",
       "      <td>Credit Card</td>\n",
       "      <td>Pablo    Perez</td>\n",
       "      <td>Madrid</td>\n",
       "      <td>998.00</td>\n",
       "    </tr>\n",
       "    <tr>\n",
       "      <th>27</th>\n",
       "      <td>10480</td>\n",
       "      <td>2022-11-13</td>\n",
       "      <td>Burgers</td>\n",
       "      <td>12.99</td>\n",
       "      <td>508</td>\n",
       "      <td>In-store</td>\n",
       "      <td>Credit Card</td>\n",
       "      <td>Pablo Perez</td>\n",
       "      <td>Madrid</td>\n",
       "      <td>6598.92</td>\n",
       "    </tr>\n",
       "    <tr>\n",
       "      <th>28</th>\n",
       "      <td>10481</td>\n",
       "      <td>2022-11-13</td>\n",
       "      <td>Chicken Sandwiches</td>\n",
       "      <td>9.95</td>\n",
       "      <td>201</td>\n",
       "      <td>In-store</td>\n",
       "      <td>Credit Card</td>\n",
       "      <td>Pablo Perez</td>\n",
       "      <td>Madrid</td>\n",
       "      <td>1999.95</td>\n",
       "    </tr>\n",
       "    <tr>\n",
       "      <th>29</th>\n",
       "      <td>10482</td>\n",
       "      <td>2022-11-13</td>\n",
       "      <td>Fries</td>\n",
       "      <td>25.50</td>\n",
       "      <td>630</td>\n",
       "      <td>In-store</td>\n",
       "      <td>Credit Card</td>\n",
       "      <td>Joao Silva</td>\n",
       "      <td>Lisbon</td>\n",
       "      <td>16065.00</td>\n",
       "    </tr>\n",
       "    <tr>\n",
       "      <th>30</th>\n",
       "      <td>10486</td>\n",
       "      <td>2022-11-14</td>\n",
       "      <td>Chicken Sandwiches</td>\n",
       "      <td>29.05</td>\n",
       "      <td>201</td>\n",
       "      <td>In-store</td>\n",
       "      <td>Credit Card</td>\n",
       "      <td>Joao    Silva</td>\n",
       "      <td>Lisbon</td>\n",
       "      <td>5839.05</td>\n",
       "    </tr>\n",
       "    <tr>\n",
       "      <th>31</th>\n",
       "      <td>10487</td>\n",
       "      <td>2022-11-14</td>\n",
       "      <td>Fries</td>\n",
       "      <td>3.49</td>\n",
       "      <td>630</td>\n",
       "      <td>In-store</td>\n",
       "      <td>Credit Card</td>\n",
       "      <td>Joao Silva</td>\n",
       "      <td>Lisbon</td>\n",
       "      <td>2198.70</td>\n",
       "    </tr>\n",
       "    <tr>\n",
       "      <th>32</th>\n",
       "      <td>10488</td>\n",
       "      <td>2022-11-14</td>\n",
       "      <td>Beverages</td>\n",
       "      <td>2.95</td>\n",
       "      <td>677</td>\n",
       "      <td>In-store</td>\n",
       "      <td>Credit Card</td>\n",
       "      <td>Joao Silva</td>\n",
       "      <td>Lisbon</td>\n",
       "      <td>1997.15</td>\n",
       "    </tr>\n",
       "    <tr>\n",
       "      <th>33</th>\n",
       "      <td>10489</td>\n",
       "      <td>2022-11-14</td>\n",
       "      <td>Sides &amp; Other</td>\n",
       "      <td>4.99</td>\n",
       "      <td>200</td>\n",
       "      <td>In-store</td>\n",
       "      <td>Credit Card</td>\n",
       "      <td>Pablo Perez</td>\n",
       "      <td>Madrid</td>\n",
       "      <td>998.00</td>\n",
       "    </tr>\n",
       "    <tr>\n",
       "      <th>34</th>\n",
       "      <td>10490</td>\n",
       "      <td>2022-11-15</td>\n",
       "      <td>Burgers</td>\n",
       "      <td>12.99</td>\n",
       "      <td>508</td>\n",
       "      <td>In-store</td>\n",
       "      <td>Credit Card</td>\n",
       "      <td>Pablo Perez</td>\n",
       "      <td>Madrid</td>\n",
       "      <td>6598.92</td>\n",
       "    </tr>\n",
       "    <tr>\n",
       "      <th>35</th>\n",
       "      <td>10491</td>\n",
       "      <td>2022-11-15</td>\n",
       "      <td>Chicken Sandwiches</td>\n",
       "      <td>9.95</td>\n",
       "      <td>201</td>\n",
       "      <td>In-store</td>\n",
       "      <td>Credit Card</td>\n",
       "      <td>Pablo Perez</td>\n",
       "      <td>Madrid</td>\n",
       "      <td>1999.95</td>\n",
       "    </tr>\n",
       "    <tr>\n",
       "      <th>36</th>\n",
       "      <td>10492</td>\n",
       "      <td>2022-11-15</td>\n",
       "      <td>Fries</td>\n",
       "      <td>3.49</td>\n",
       "      <td>573</td>\n",
       "      <td>In-store</td>\n",
       "      <td>Credit Card</td>\n",
       "      <td>Pablo Perez</td>\n",
       "      <td>Madrid</td>\n",
       "      <td>1999.77</td>\n",
       "    </tr>\n",
       "    <tr>\n",
       "      <th>37</th>\n",
       "      <td>10493</td>\n",
       "      <td>2022-11-15</td>\n",
       "      <td>Beverages</td>\n",
       "      <td>2.95</td>\n",
       "      <td>677</td>\n",
       "      <td>In-store</td>\n",
       "      <td>Credit Card</td>\n",
       "      <td>Pablo Perez</td>\n",
       "      <td>Madrid</td>\n",
       "      <td>1997.15</td>\n",
       "    </tr>\n",
       "    <tr>\n",
       "      <th>38</th>\n",
       "      <td>10494</td>\n",
       "      <td>2022-11-15</td>\n",
       "      <td>Sides &amp; Other</td>\n",
       "      <td>4.99</td>\n",
       "      <td>200</td>\n",
       "      <td>In-store</td>\n",
       "      <td>Credit Card</td>\n",
       "      <td>Pablo Perez</td>\n",
       "      <td>Madrid</td>\n",
       "      <td>998.00</td>\n",
       "    </tr>\n",
       "    <tr>\n",
       "      <th>39</th>\n",
       "      <td>10495</td>\n",
       "      <td>2022-11-16</td>\n",
       "      <td>Burgers</td>\n",
       "      <td>12.99</td>\n",
       "      <td>508</td>\n",
       "      <td>In-store</td>\n",
       "      <td>Credit Card</td>\n",
       "      <td>Pablo Perez</td>\n",
       "      <td>Madrid</td>\n",
       "      <td>6598.92</td>\n",
       "    </tr>\n",
       "    <tr>\n",
       "      <th>40</th>\n",
       "      <td>10496</td>\n",
       "      <td>2022-11-16</td>\n",
       "      <td>Chicken Sandwiches</td>\n",
       "      <td>9.95</td>\n",
       "      <td>201</td>\n",
       "      <td>In-store</td>\n",
       "      <td>Credit Card</td>\n",
       "      <td>Pablo Perez</td>\n",
       "      <td>Madrid</td>\n",
       "      <td>1999.95</td>\n",
       "    </tr>\n",
       "    <tr>\n",
       "      <th>41</th>\n",
       "      <td>10497</td>\n",
       "      <td>2022-11-16</td>\n",
       "      <td>Fries</td>\n",
       "      <td>3.49</td>\n",
       "      <td>573</td>\n",
       "      <td>In-store</td>\n",
       "      <td>Credit Card</td>\n",
       "      <td>Pablo Perez</td>\n",
       "      <td>Madrid</td>\n",
       "      <td>1999.77</td>\n",
       "    </tr>\n",
       "    <tr>\n",
       "      <th>42</th>\n",
       "      <td>10498</td>\n",
       "      <td>2022-11-16</td>\n",
       "      <td>Beverages</td>\n",
       "      <td>2.95</td>\n",
       "      <td>677</td>\n",
       "      <td>Drive-thru</td>\n",
       "      <td>Credit Card</td>\n",
       "      <td>Pablo Perez</td>\n",
       "      <td>Madrid</td>\n",
       "      <td>1997.15</td>\n",
       "    </tr>\n",
       "    <tr>\n",
       "      <th>43</th>\n",
       "      <td>10499</td>\n",
       "      <td>2022-11-16</td>\n",
       "      <td>Sides &amp; Other</td>\n",
       "      <td>4.99</td>\n",
       "      <td>200</td>\n",
       "      <td>Drive-thru</td>\n",
       "      <td>Credit Card</td>\n",
       "      <td>Pablo Perez</td>\n",
       "      <td>Madrid</td>\n",
       "      <td>998.00</td>\n",
       "    </tr>\n",
       "    <tr>\n",
       "      <th>44</th>\n",
       "      <td>10500</td>\n",
       "      <td>2022-11-17</td>\n",
       "      <td>Burgers</td>\n",
       "      <td>12.99</td>\n",
       "      <td>523</td>\n",
       "      <td>Drive-thru</td>\n",
       "      <td>Credit Card</td>\n",
       "      <td>Pablo Perez</td>\n",
       "      <td>Madrid</td>\n",
       "      <td>6793.77</td>\n",
       "    </tr>\n",
       "    <tr>\n",
       "      <th>45</th>\n",
       "      <td>10501</td>\n",
       "      <td>2022-11-17</td>\n",
       "      <td>Chicken Sandwiches</td>\n",
       "      <td>9.95</td>\n",
       "      <td>201</td>\n",
       "      <td>Drive-thru</td>\n",
       "      <td>Credit Card</td>\n",
       "      <td>Pablo Perez</td>\n",
       "      <td>Madrid</td>\n",
       "      <td>1999.95</td>\n",
       "    </tr>\n",
       "    <tr>\n",
       "      <th>46</th>\n",
       "      <td>10502</td>\n",
       "      <td>2022-11-17</td>\n",
       "      <td>Fries</td>\n",
       "      <td>3.49</td>\n",
       "      <td>630</td>\n",
       "      <td>Drive-thru</td>\n",
       "      <td>Credit Card</td>\n",
       "      <td>Pablo Perez</td>\n",
       "      <td>Madrid</td>\n",
       "      <td>2198.70</td>\n",
       "    </tr>\n",
       "    <tr>\n",
       "      <th>47</th>\n",
       "      <td>10503</td>\n",
       "      <td>2022-11-17</td>\n",
       "      <td>Beverages</td>\n",
       "      <td>2.95</td>\n",
       "      <td>677</td>\n",
       "      <td>Drive-thru</td>\n",
       "      <td>Credit Card</td>\n",
       "      <td>Pablo Perez</td>\n",
       "      <td>Madrid</td>\n",
       "      <td>1997.15</td>\n",
       "    </tr>\n",
       "    <tr>\n",
       "      <th>48</th>\n",
       "      <td>10504</td>\n",
       "      <td>2022-11-17</td>\n",
       "      <td>Sides &amp; Other</td>\n",
       "      <td>4.99</td>\n",
       "      <td>200</td>\n",
       "      <td>Drive-thru</td>\n",
       "      <td>Credit Card</td>\n",
       "      <td>Pablo Perez</td>\n",
       "      <td>Madrid</td>\n",
       "      <td>998.00</td>\n",
       "    </tr>\n",
       "    <tr>\n",
       "      <th>49</th>\n",
       "      <td>10505</td>\n",
       "      <td>2022-11-18</td>\n",
       "      <td>Burgers</td>\n",
       "      <td>12.99</td>\n",
       "      <td>538</td>\n",
       "      <td>Drive-thru</td>\n",
       "      <td>Credit Card</td>\n",
       "      <td>Pablo Perez</td>\n",
       "      <td>Madrid</td>\n",
       "      <td>6988.62</td>\n",
       "    </tr>\n",
       "    <tr>\n",
       "      <th>50</th>\n",
       "      <td>10506</td>\n",
       "      <td>2022-11-18</td>\n",
       "      <td>Chicken Sandwiches</td>\n",
       "      <td>9.95</td>\n",
       "      <td>201</td>\n",
       "      <td>Drive-thru</td>\n",
       "      <td>Credit Card</td>\n",
       "      <td>Pablo Perez</td>\n",
       "      <td>Madrid</td>\n",
       "      <td>1999.95</td>\n",
       "    </tr>\n",
       "  </tbody>\n",
       "</table>\n",
       "</div>"
      ],
      "text/plain": [
       "0   Order ID       Date             Product  Price  Quantity Purchase Type  \\\n",
       "1      10452 2022-11-07               Fries   3.49       573       Online    \n",
       "2      10453 2022-11-07           Beverages   2.95       745       Online    \n",
       "3      10454 2022-11-07       Sides & Other   4.99       200     In-store    \n",
       "4      10455 2022-11-08             Burgers  12.99       569     In-store    \n",
       "5      10456 2022-11-08  Chicken Sandwiches   9.95       201     In-store    \n",
       "6      10457 2022-11-08               Fries   3.49       573     In-store    \n",
       "7      10459 2022-11-08       Sides & Other   4.99       200     In-store    \n",
       "8      10460 2022-11-09             Burgers  12.99       554     In-store    \n",
       "9      10461 2022-11-09  Chicken Sandwiches   9.95       201     In-store    \n",
       "10     10462 2022-11-09               Fries   3.49       573     In-store    \n",
       "11     10463 2022-11-09           Beverages   2.95       677     In-store    \n",
       "12     10464 2022-11-09       Sides & Other   4.99       200     In-store    \n",
       "13     10465 2022-11-10             Burgers  12.99       554     In-store    \n",
       "14     10466 2022-11-10  Chicken Sandwiches   9.95       201     In-store    \n",
       "15     10467 2022-11-10               Fries   3.49       573     In-store    \n",
       "16     10468 2022-11-10           Beverages   2.95       677     In-store    \n",
       "17     10470 2022-11-11             Burgers  12.99       554     In-store    \n",
       "18     10471 2022-11-11  Chicken Sandwiches   9.95       201     In-store    \n",
       "19     10472 2022-11-11               Fries   3.49       630     In-store    \n",
       "20     10473 2022-11-11           Beverages   2.95       677     In-store    \n",
       "21     10474 2022-11-11       Sides & Other   4.99       200     In-store    \n",
       "22     10475 2022-11-12             Burgers  12.99       523     In-store    \n",
       "23     10476 2022-11-12  Chicken Sandwiches   9.95       201     In-store    \n",
       "24     10477 2022-11-12               Fries   3.49       630     In-store    \n",
       "25     10478 2022-11-12           Beverages   2.95       677     In-store    \n",
       "26     10479 2022-11-12       Sides & Other   4.99       200     In-store    \n",
       "27     10480 2022-11-13             Burgers  12.99       508     In-store    \n",
       "28     10481 2022-11-13  Chicken Sandwiches   9.95       201     In-store    \n",
       "29     10482 2022-11-13               Fries  25.50       630     In-store    \n",
       "30     10486 2022-11-14  Chicken Sandwiches  29.05       201     In-store    \n",
       "31     10487 2022-11-14               Fries   3.49       630     In-store    \n",
       "32     10488 2022-11-14           Beverages   2.95       677     In-store    \n",
       "33     10489 2022-11-14       Sides & Other   4.99       200     In-store    \n",
       "34     10490 2022-11-15             Burgers  12.99       508     In-store    \n",
       "35     10491 2022-11-15  Chicken Sandwiches   9.95       201     In-store    \n",
       "36     10492 2022-11-15               Fries   3.49       573     In-store    \n",
       "37     10493 2022-11-15           Beverages   2.95       677     In-store    \n",
       "38     10494 2022-11-15       Sides & Other   4.99       200     In-store    \n",
       "39     10495 2022-11-16             Burgers  12.99       508     In-store    \n",
       "40     10496 2022-11-16  Chicken Sandwiches   9.95       201     In-store    \n",
       "41     10497 2022-11-16               Fries   3.49       573     In-store    \n",
       "42     10498 2022-11-16           Beverages   2.95       677   Drive-thru    \n",
       "43     10499 2022-11-16       Sides & Other   4.99       200   Drive-thru    \n",
       "44     10500 2022-11-17             Burgers  12.99       523   Drive-thru    \n",
       "45     10501 2022-11-17  Chicken Sandwiches   9.95       201   Drive-thru    \n",
       "46     10502 2022-11-17               Fries   3.49       630   Drive-thru    \n",
       "47     10503 2022-11-17           Beverages   2.95       677   Drive-thru    \n",
       "48     10504 2022-11-17       Sides & Other   4.99       200   Drive-thru    \n",
       "49     10505 2022-11-18             Burgers  12.99       538   Drive-thru    \n",
       "50     10506 2022-11-18  Chicken Sandwiches   9.95       201   Drive-thru    \n",
       "\n",
       "0  Payment Method             Manager    City   Revenue  \n",
       "1       Gift Card    Tom      Jackson  London   1999.77  \n",
       "2       Gift Card         Pablo Perez  Madrid   2197.75  \n",
       "3       Gift Card       Joao    Silva  Lisbon    998.00  \n",
       "4     Credit Card       Walter Muller  Berlin   7391.31  \n",
       "5     Credit Card       Walter Muller  Berlin   1999.95  \n",
       "6     Credit Card       Remy    Monet   Paris   1999.77  \n",
       "7     Credit Card       Walter Muller  Berlin    998.00  \n",
       "8     Credit Card          Remy Monet   Paris   7196.46  \n",
       "9     Credit Card          Remy Monet   Paris   1999.95  \n",
       "10    Credit Card          Remy Monet   Paris   1999.77  \n",
       "11    Credit Card          Remy Monet   Paris   1997.15  \n",
       "12    Credit Card      Remy     Monet   Paris    998.00  \n",
       "13    Credit Card         Pablo Perez  Madrid   7196.46  \n",
       "14    Credit Card         Pablo Perez  Madrid   1999.95  \n",
       "15    Credit Card         Pablo Perez  Madrid   1999.77  \n",
       "16    Credit Card         Pablo Perez  Madrid   1997.15  \n",
       "17    Credit Card         Pablo Perez  Madrid   7196.46  \n",
       "18    Credit Card         Pablo Perez  Madrid   1999.95  \n",
       "19    Credit Card       Pablo   Perez  Madrid   2198.70  \n",
       "20    Credit Card         Pablo Perez  Madrid   1997.15  \n",
       "21    Credit Card         Pablo Perez  Madrid    998.00  \n",
       "22    Credit Card         Pablo Perez  Madrid   6793.77  \n",
       "23    Credit Card         Pablo Perez  Madrid   1999.95  \n",
       "24    Credit Card        Pablo  Perez  Madrid   2198.70  \n",
       "25    Credit Card         Pablo Perez  Madrid   1997.15  \n",
       "26    Credit Card      Pablo    Perez  Madrid    998.00  \n",
       "27    Credit Card         Pablo Perez  Madrid   6598.92  \n",
       "28    Credit Card         Pablo Perez  Madrid   1999.95  \n",
       "29    Credit Card          Joao Silva  Lisbon  16065.00  \n",
       "30    Credit Card       Joao    Silva  Lisbon   5839.05  \n",
       "31    Credit Card          Joao Silva  Lisbon   2198.70  \n",
       "32    Credit Card          Joao Silva  Lisbon   1997.15  \n",
       "33    Credit Card         Pablo Perez  Madrid    998.00  \n",
       "34    Credit Card         Pablo Perez  Madrid   6598.92  \n",
       "35    Credit Card         Pablo Perez  Madrid   1999.95  \n",
       "36    Credit Card         Pablo Perez  Madrid   1999.77  \n",
       "37    Credit Card         Pablo Perez  Madrid   1997.15  \n",
       "38    Credit Card         Pablo Perez  Madrid    998.00  \n",
       "39    Credit Card         Pablo Perez  Madrid   6598.92  \n",
       "40    Credit Card         Pablo Perez  Madrid   1999.95  \n",
       "41    Credit Card         Pablo Perez  Madrid   1999.77  \n",
       "42    Credit Card         Pablo Perez  Madrid   1997.15  \n",
       "43    Credit Card         Pablo Perez  Madrid    998.00  \n",
       "44    Credit Card         Pablo Perez  Madrid   6793.77  \n",
       "45    Credit Card         Pablo Perez  Madrid   1999.95  \n",
       "46    Credit Card         Pablo Perez  Madrid   2198.70  \n",
       "47    Credit Card         Pablo Perez  Madrid   1997.15  \n",
       "48    Credit Card         Pablo Perez  Madrid    998.00  \n",
       "49    Credit Card         Pablo Perez  Madrid   6988.62  \n",
       "50    Credit Card         Pablo Perez  Madrid   1999.95  "
      ]
     },
     "execution_count": 49,
     "metadata": {},
     "output_type": "execute_result"
    }
   ],
   "source": [
    "df.head(50)"
   ]
  },
  {
   "cell_type": "markdown",
   "metadata": {},
   "source": [
    "Removing the duplicates Records"
   ]
  },
  {
   "cell_type": "code",
   "execution_count": 14,
   "metadata": {},
   "outputs": [
    {
     "data": {
      "text/html": [
       "<div>\n",
       "<style scoped>\n",
       "    .dataframe tbody tr th:only-of-type {\n",
       "        vertical-align: middle;\n",
       "    }\n",
       "\n",
       "    .dataframe tbody tr th {\n",
       "        vertical-align: top;\n",
       "    }\n",
       "\n",
       "    .dataframe thead th {\n",
       "        text-align: right;\n",
       "    }\n",
       "</style>\n",
       "<table border=\"1\" class=\"dataframe\">\n",
       "  <thead>\n",
       "    <tr style=\"text-align: right;\">\n",
       "      <th></th>\n",
       "      <th>Order ID</th>\n",
       "      <th>Date</th>\n",
       "      <th>Product</th>\n",
       "      <th>Price</th>\n",
       "      <th>Quantity</th>\n",
       "      <th>Purchase Type</th>\n",
       "      <th>Payment Method</th>\n",
       "      <th>Manager</th>\n",
       "      <th>City</th>\n",
       "    </tr>\n",
       "  </thead>\n",
       "  <tbody>\n",
       "    <tr>\n",
       "      <th>count</th>\n",
       "      <td>254</td>\n",
       "      <td>254</td>\n",
       "      <td>254</td>\n",
       "      <td>254</td>\n",
       "      <td>254</td>\n",
       "      <td>254</td>\n",
       "      <td>254</td>\n",
       "      <td>254</td>\n",
       "      <td>254</td>\n",
       "    </tr>\n",
       "    <tr>\n",
       "      <th>unique</th>\n",
       "      <td>254</td>\n",
       "      <td>53</td>\n",
       "      <td>5</td>\n",
       "      <td>7</td>\n",
       "      <td>29</td>\n",
       "      <td>3</td>\n",
       "      <td>3</td>\n",
       "      <td>14</td>\n",
       "      <td>5</td>\n",
       "    </tr>\n",
       "    <tr>\n",
       "      <th>top</th>\n",
       "      <td>10452</td>\n",
       "      <td>3/12/2022</td>\n",
       "      <td>Burgers</td>\n",
       "      <td>12.99</td>\n",
       "      <td>200.40</td>\n",
       "      <td>Online</td>\n",
       "      <td>Credit Card</td>\n",
       "      <td>Tom Jackson</td>\n",
       "      <td>London</td>\n",
       "    </tr>\n",
       "    <tr>\n",
       "      <th>freq</th>\n",
       "      <td>1</td>\n",
       "      <td>5</td>\n",
       "      <td>52</td>\n",
       "      <td>52</td>\n",
       "      <td>49</td>\n",
       "      <td>107</td>\n",
       "      <td>120</td>\n",
       "      <td>74</td>\n",
       "      <td>75</td>\n",
       "    </tr>\n",
       "  </tbody>\n",
       "</table>\n",
       "</div>"
      ],
      "text/plain": [
       "0      Order ID       Date  Product  Price Quantity Purchase Type  \\\n",
       "count       254        254      254    254      254           254   \n",
       "unique      254         53        5      7       29             3   \n",
       "top       10452  3/12/2022  Burgers  12.99   200.40       Online    \n",
       "freq          1          5       52     52       49           107   \n",
       "\n",
       "0      Payment Method      Manager    City  \n",
       "count             254          254     254  \n",
       "unique              3           14       5  \n",
       "top       Credit Card  Tom Jackson  London  \n",
       "freq              120           74      75  "
      ]
     },
     "execution_count": 14,
     "metadata": {},
     "output_type": "execute_result"
    }
   ],
   "source": [
    "df.describe()"
   ]
  },
  {
   "cell_type": "code",
   "execution_count": 15,
   "metadata": {},
   "outputs": [
    {
     "data": {
      "text/html": [
       "<div>\n",
       "<style scoped>\n",
       "    .dataframe tbody tr th:only-of-type {\n",
       "        vertical-align: middle;\n",
       "    }\n",
       "\n",
       "    .dataframe tbody tr th {\n",
       "        vertical-align: top;\n",
       "    }\n",
       "\n",
       "    .dataframe thead th {\n",
       "        text-align: right;\n",
       "    }\n",
       "</style>\n",
       "<table border=\"1\" class=\"dataframe\">\n",
       "  <thead>\n",
       "    <tr style=\"text-align: right;\">\n",
       "      <th></th>\n",
       "      <th>Order ID</th>\n",
       "      <th>Date</th>\n",
       "      <th>Product</th>\n",
       "      <th>Price</th>\n",
       "      <th>Quantity</th>\n",
       "      <th>Purchase Type</th>\n",
       "      <th>Payment Method</th>\n",
       "      <th>Manager</th>\n",
       "      <th>City</th>\n",
       "    </tr>\n",
       "  </thead>\n",
       "  <tbody>\n",
       "  </tbody>\n",
       "</table>\n",
       "</div>"
      ],
      "text/plain": [
       "Empty DataFrame\n",
       "Columns: [Order ID, Date, Product, Price, Quantity, Purchase Type, Payment Method, Manager, City]\n",
       "Index: []"
      ]
     },
     "execution_count": 15,
     "metadata": {},
     "output_type": "execute_result"
    }
   ],
   "source": [
    "df[df.duplicated()]"
   ]
  },
  {
   "cell_type": "markdown",
   "metadata": {},
   "source": [
    "Converting data type of columns\n"
   ]
  },
  {
   "cell_type": "code",
   "execution_count": 16,
   "metadata": {},
   "outputs": [
    {
     "name": "stdout",
     "output_type": "stream",
     "text": [
      "<class 'pandas.core.frame.DataFrame'>\n",
      "RangeIndex: 254 entries, 1 to 254\n",
      "Data columns (total 9 columns):\n",
      " #   Column          Non-Null Count  Dtype \n",
      "---  ------          --------------  ----- \n",
      " 0   Order ID        254 non-null    object\n",
      " 1   Date            254 non-null    object\n",
      " 2   Product         254 non-null    object\n",
      " 3   Price           254 non-null    object\n",
      " 4   Quantity        254 non-null    object\n",
      " 5   Purchase Type   254 non-null    object\n",
      " 6   Payment Method  254 non-null    object\n",
      " 7   Manager         254 non-null    object\n",
      " 8   City            254 non-null    object\n",
      "dtypes: object(9)\n",
      "memory usage: 18.0+ KB\n"
     ]
    }
   ],
   "source": [
    "df.info()"
   ]
  },
  {
   "cell_type": "code",
   "execution_count": 17,
   "metadata": {},
   "outputs": [],
   "source": [
    "df.Quantity = df.Quantity.astype(float)"
   ]
  },
  {
   "cell_type": "code",
   "execution_count": 18,
   "metadata": {},
   "outputs": [
    {
     "name": "stdout",
     "output_type": "stream",
     "text": [
      "<class 'pandas.core.frame.DataFrame'>\n",
      "RangeIndex: 254 entries, 1 to 254\n",
      "Data columns (total 9 columns):\n",
      " #   Column          Non-Null Count  Dtype  \n",
      "---  ------          --------------  -----  \n",
      " 0   Order ID        254 non-null    object \n",
      " 1   Date            254 non-null    object \n",
      " 2   Product         254 non-null    object \n",
      " 3   Price           254 non-null    object \n",
      " 4   Quantity        254 non-null    float64\n",
      " 5   Purchase Type   254 non-null    object \n",
      " 6   Payment Method  254 non-null    object \n",
      " 7   Manager         254 non-null    object \n",
      " 8   City            254 non-null    object \n",
      "dtypes: float64(1), object(8)\n",
      "memory usage: 18.0+ KB\n"
     ]
    }
   ],
   "source": [
    "df.info()\n"
   ]
  },
  {
   "cell_type": "code",
   "execution_count": null,
   "metadata": {},
   "outputs": [],
   "source": []
  },
  {
   "cell_type": "code",
   "execution_count": 19,
   "metadata": {},
   "outputs": [],
   "source": [
    "df.Quantity = df.Quantity.astype(int)"
   ]
  },
  {
   "cell_type": "code",
   "execution_count": 20,
   "metadata": {},
   "outputs": [
    {
     "data": {
      "text/plain": [
       "1      573\n",
       "2      745\n",
       "3      200\n",
       "4      569\n",
       "5      201\n",
       "      ... \n",
       "250    200\n",
       "251    754\n",
       "252    281\n",
       "253    630\n",
       "254    677\n",
       "Name: Quantity, Length: 254, dtype: int64"
      ]
     },
     "execution_count": 20,
     "metadata": {},
     "output_type": "execute_result"
    }
   ],
   "source": [
    "df.Quantity\n"
   ]
  },
  {
   "cell_type": "code",
   "execution_count": 21,
   "metadata": {},
   "outputs": [],
   "source": [
    "df[\"Order ID\"] =df['Order ID'].astype(int)\n",
    "df['Price']=df['Price'].astype(float)"
   ]
  },
  {
   "cell_type": "code",
   "execution_count": 22,
   "metadata": {},
   "outputs": [
    {
     "name": "stdout",
     "output_type": "stream",
     "text": [
      "<class 'pandas.core.frame.DataFrame'>\n",
      "RangeIndex: 254 entries, 1 to 254\n",
      "Data columns (total 9 columns):\n",
      " #   Column          Non-Null Count  Dtype  \n",
      "---  ------          --------------  -----  \n",
      " 0   Order ID        254 non-null    int64  \n",
      " 1   Date            254 non-null    object \n",
      " 2   Product         254 non-null    object \n",
      " 3   Price           254 non-null    float64\n",
      " 4   Quantity        254 non-null    int64  \n",
      " 5   Purchase Type   254 non-null    object \n",
      " 6   Payment Method  254 non-null    object \n",
      " 7   Manager         254 non-null    object \n",
      " 8   City            254 non-null    object \n",
      "dtypes: float64(1), int64(2), object(6)\n",
      "memory usage: 18.0+ KB\n"
     ]
    }
   ],
   "source": [
    "df.info()"
   ]
  },
  {
   "cell_type": "code",
   "execution_count": 23,
   "metadata": {},
   "outputs": [
    {
     "data": {
      "text/html": [
       "<div>\n",
       "<style scoped>\n",
       "    .dataframe tbody tr th:only-of-type {\n",
       "        vertical-align: middle;\n",
       "    }\n",
       "\n",
       "    .dataframe tbody tr th {\n",
       "        vertical-align: top;\n",
       "    }\n",
       "\n",
       "    .dataframe thead th {\n",
       "        text-align: right;\n",
       "    }\n",
       "</style>\n",
       "<table border=\"1\" class=\"dataframe\">\n",
       "  <thead>\n",
       "    <tr style=\"text-align: right;\">\n",
       "      <th></th>\n",
       "      <th>Order ID</th>\n",
       "      <th>Date</th>\n",
       "      <th>Product</th>\n",
       "      <th>Price</th>\n",
       "      <th>Quantity</th>\n",
       "      <th>Purchase Type</th>\n",
       "      <th>Payment Method</th>\n",
       "      <th>Manager</th>\n",
       "      <th>City</th>\n",
       "    </tr>\n",
       "  </thead>\n",
       "  <tbody>\n",
       "    <tr>\n",
       "      <th>28</th>\n",
       "      <td>10481</td>\n",
       "      <td>13/11/2022</td>\n",
       "      <td>Chicken Sandwiches</td>\n",
       "      <td>9.95</td>\n",
       "      <td>201</td>\n",
       "      <td>In-store</td>\n",
       "      <td>Credit Card</td>\n",
       "      <td>Pablo Perez</td>\n",
       "      <td>Madrid</td>\n",
       "    </tr>\n",
       "    <tr>\n",
       "      <th>73</th>\n",
       "      <td>10529</td>\n",
       "      <td>22/11/2022</td>\n",
       "      <td>Sides &amp; Other</td>\n",
       "      <td>4.99</td>\n",
       "      <td>200</td>\n",
       "      <td>Drive-thru</td>\n",
       "      <td>Cash</td>\n",
       "      <td>Remy Monet</td>\n",
       "      <td>Paris</td>\n",
       "    </tr>\n",
       "    <tr>\n",
       "      <th>243</th>\n",
       "      <td>10702</td>\n",
       "      <td>27/12/2022</td>\n",
       "      <td>Fries</td>\n",
       "      <td>3.49</td>\n",
       "      <td>630</td>\n",
       "      <td>In-store</td>\n",
       "      <td>Cash</td>\n",
       "      <td>Walter Muller</td>\n",
       "      <td>Berlin</td>\n",
       "    </tr>\n",
       "    <tr>\n",
       "      <th>66</th>\n",
       "      <td>10522</td>\n",
       "      <td>21/11/2022</td>\n",
       "      <td>Fries</td>\n",
       "      <td>3.49</td>\n",
       "      <td>687</td>\n",
       "      <td>Drive-thru</td>\n",
       "      <td>Cash</td>\n",
       "      <td>Remy Monet</td>\n",
       "      <td>Paris</td>\n",
       "    </tr>\n",
       "    <tr>\n",
       "      <th>197</th>\n",
       "      <td>10656</td>\n",
       "      <td>18/12/2022</td>\n",
       "      <td>Chicken Sandwiches</td>\n",
       "      <td>9.95</td>\n",
       "      <td>221</td>\n",
       "      <td>Online</td>\n",
       "      <td>Gift Card</td>\n",
       "      <td>Joao Silva</td>\n",
       "      <td>Lisbon</td>\n",
       "    </tr>\n",
       "    <tr>\n",
       "      <th>96</th>\n",
       "      <td>10555</td>\n",
       "      <td>28/11/2022</td>\n",
       "      <td>Burgers</td>\n",
       "      <td>12.99</td>\n",
       "      <td>477</td>\n",
       "      <td>Online</td>\n",
       "      <td>Credit Card</td>\n",
       "      <td>Tom Jackson</td>\n",
       "      <td>London</td>\n",
       "    </tr>\n",
       "    <tr>\n",
       "      <th>14</th>\n",
       "      <td>10466</td>\n",
       "      <td>10/11/2022</td>\n",
       "      <td>Chicken Sandwiches</td>\n",
       "      <td>9.95</td>\n",
       "      <td>201</td>\n",
       "      <td>In-store</td>\n",
       "      <td>Credit Card</td>\n",
       "      <td>Pablo Perez</td>\n",
       "      <td>Madrid</td>\n",
       "    </tr>\n",
       "    <tr>\n",
       "      <th>15</th>\n",
       "      <td>10467</td>\n",
       "      <td>10/11/2022</td>\n",
       "      <td>Fries</td>\n",
       "      <td>3.49</td>\n",
       "      <td>573</td>\n",
       "      <td>In-store</td>\n",
       "      <td>Credit Card</td>\n",
       "      <td>Pablo Perez</td>\n",
       "      <td>Madrid</td>\n",
       "    </tr>\n",
       "    <tr>\n",
       "      <th>138</th>\n",
       "      <td>10597</td>\n",
       "      <td>6/12/2022</td>\n",
       "      <td>Fries</td>\n",
       "      <td>3.49</td>\n",
       "      <td>573</td>\n",
       "      <td>Online</td>\n",
       "      <td>Credit Card</td>\n",
       "      <td>Tom Jackson</td>\n",
       "      <td>London</td>\n",
       "    </tr>\n",
       "    <tr>\n",
       "      <th>36</th>\n",
       "      <td>10492</td>\n",
       "      <td>15/11/2022</td>\n",
       "      <td>Fries</td>\n",
       "      <td>3.49</td>\n",
       "      <td>573</td>\n",
       "      <td>In-store</td>\n",
       "      <td>Credit Card</td>\n",
       "      <td>Pablo Perez</td>\n",
       "      <td>Madrid</td>\n",
       "    </tr>\n",
       "  </tbody>\n",
       "</table>\n",
       "</div>"
      ],
      "text/plain": [
       "0    Order ID        Date             Product  Price  Quantity Purchase Type  \\\n",
       "28      10481  13/11/2022  Chicken Sandwiches   9.95       201     In-store    \n",
       "73      10529  22/11/2022       Sides & Other   4.99       200   Drive-thru    \n",
       "243     10702  27/12/2022               Fries   3.49       630     In-store    \n",
       "66      10522  21/11/2022               Fries   3.49       687   Drive-thru    \n",
       "197     10656  18/12/2022  Chicken Sandwiches   9.95       221       Online    \n",
       "96      10555  28/11/2022             Burgers  12.99       477       Online    \n",
       "14      10466  10/11/2022  Chicken Sandwiches   9.95       201     In-store    \n",
       "15      10467  10/11/2022               Fries   3.49       573     In-store    \n",
       "138     10597   6/12/2022               Fries   3.49       573       Online    \n",
       "36      10492  15/11/2022               Fries   3.49       573     In-store    \n",
       "\n",
       "0   Payment Method        Manager    City  \n",
       "28     Credit Card    Pablo Perez  Madrid  \n",
       "73            Cash     Remy Monet   Paris  \n",
       "243           Cash  Walter Muller  Berlin  \n",
       "66            Cash     Remy Monet   Paris  \n",
       "197      Gift Card     Joao Silva  Lisbon  \n",
       "96     Credit Card    Tom Jackson  London  \n",
       "14     Credit Card    Pablo Perez  Madrid  \n",
       "15     Credit Card    Pablo Perez  Madrid  \n",
       "138    Credit Card    Tom Jackson  London  \n",
       "36     Credit Card    Pablo Perez  Madrid  "
      ]
     },
     "execution_count": 23,
     "metadata": {},
     "output_type": "execute_result"
    }
   ],
   "source": [
    "\n",
    "df.sample(10)"
   ]
  },
  {
   "cell_type": "code",
   "execution_count": 24,
   "metadata": {},
   "outputs": [],
   "source": [
    "\n",
    "df.Date = pd.to_datetime(df.Date, format='%d/%m/%Y')"
   ]
  },
  {
   "cell_type": "code",
   "execution_count": 25,
   "metadata": {},
   "outputs": [
    {
     "name": "stdout",
     "output_type": "stream",
     "text": [
      "<class 'pandas.core.frame.DataFrame'>\n",
      "RangeIndex: 254 entries, 1 to 254\n",
      "Data columns (total 9 columns):\n",
      " #   Column          Non-Null Count  Dtype         \n",
      "---  ------          --------------  -----         \n",
      " 0   Order ID        254 non-null    int64         \n",
      " 1   Date            254 non-null    datetime64[ns]\n",
      " 2   Product         254 non-null    object        \n",
      " 3   Price           254 non-null    float64       \n",
      " 4   Quantity        254 non-null    int64         \n",
      " 5   Purchase Type   254 non-null    object        \n",
      " 6   Payment Method  254 non-null    object        \n",
      " 7   Manager         254 non-null    object        \n",
      " 8   City            254 non-null    object        \n",
      "dtypes: datetime64[ns](1), float64(1), int64(2), object(5)\n",
      "memory usage: 18.0+ KB\n"
     ]
    }
   ],
   "source": [
    "df.info()"
   ]
  },
  {
   "cell_type": "markdown",
   "metadata": {},
   "source": [
    "# Analaizing Data"
   ]
  },
  {
   "cell_type": "markdown",
   "metadata": {},
   "source": [
    "most preferd payment method"
   ]
  },
  {
   "cell_type": "code",
   "execution_count": 26,
   "metadata": {},
   "outputs": [
    {
     "data": {
      "text/plain": [
       "array([' Gift Card', ' Credit Card', ' Cash'], dtype=object)"
      ]
     },
     "execution_count": 26,
     "metadata": {},
     "output_type": "execute_result"
    }
   ],
   "source": [
    "df['Payment Method'].unique()"
   ]
  },
  {
   "cell_type": "code",
   "execution_count": 27,
   "metadata": {},
   "outputs": [
    {
     "data": {
      "text/plain": [
       "Payment Method\n",
       "Credit Card    120\n",
       "Cash            76\n",
       "Gift Card       58\n",
       "Name: count, dtype: int64"
      ]
     },
     "execution_count": 27,
     "metadata": {},
     "output_type": "execute_result"
    }
   ],
   "source": [
    "df['Payment Method'].value_counts()"
   ]
  },
  {
   "cell_type": "code",
   "execution_count": 28,
   "metadata": {},
   "outputs": [
    {
     "data": {
      "text/plain": [
       "Payment Method\n",
       "Credit Card    47.244094\n",
       "Cash           29.921260\n",
       "Gift Card      22.834646\n",
       "Name: proportion, dtype: float64"
      ]
     },
     "execution_count": 28,
     "metadata": {},
     "output_type": "execute_result"
    }
   ],
   "source": [
    "df['Payment Method'].value_counts(normalize=True)*100"
   ]
  },
  {
   "cell_type": "code",
   "execution_count": 29,
   "metadata": {},
   "outputs": [
    {
     "data": {
      "text/plain": [
       "<Axes: xlabel='Payment Method'>"
      ]
     },
     "execution_count": 29,
     "metadata": {},
     "output_type": "execute_result"
    },
    {
     "data": {
      "image/png": "[encoded data removed]",
      "text/plain": [
       "<Figure size 640x480 with 1 Axes>"
      ]
     },
     "metadata": {},
     "output_type": "display_data"
    }
   ],
   "source": [
    "df['Payment Method'].value_counts().plot(kind='bar')"
   ]
  },
  {
   "cell_type": "markdown",
   "metadata": {},
   "source": [
    "Most selling product ?(Quantity , Revenue)"
   ]
  },
  {
   "cell_type": "code",
   "execution_count": 30,
   "metadata": {},
   "outputs": [
    {
     "data": {
      "text/html": [
       "<div>\n",
       "<style scoped>\n",
       "    .dataframe tbody tr th:only-of-type {\n",
       "        vertical-align: middle;\n",
       "    }\n",
       "\n",
       "    .dataframe tbody tr th {\n",
       "        vertical-align: top;\n",
       "    }\n",
       "\n",
       "    .dataframe thead th {\n",
       "        text-align: right;\n",
       "    }\n",
       "</style>\n",
       "<table border=\"1\" class=\"dataframe\">\n",
       "  <thead>\n",
       "    <tr style=\"text-align: right;\">\n",
       "      <th></th>\n",
       "      <th>Order ID</th>\n",
       "      <th>Date</th>\n",
       "      <th>Product</th>\n",
       "      <th>Price</th>\n",
       "      <th>Quantity</th>\n",
       "      <th>Purchase Type</th>\n",
       "      <th>Payment Method</th>\n",
       "      <th>Manager</th>\n",
       "      <th>City</th>\n",
       "    </tr>\n",
       "  </thead>\n",
       "  <tbody>\n",
       "    <tr>\n",
       "      <th>201</th>\n",
       "      <td>10660</td>\n",
       "      <td>2022-12-19</td>\n",
       "      <td>Burgers</td>\n",
       "      <td>12.99</td>\n",
       "      <td>631</td>\n",
       "      <td>In-store</td>\n",
       "      <td>Cash</td>\n",
       "      <td>Joao Silva</td>\n",
       "      <td>Lisbon</td>\n",
       "    </tr>\n",
       "    <tr>\n",
       "      <th>193</th>\n",
       "      <td>10652</td>\n",
       "      <td>2022-12-17</td>\n",
       "      <td>Fries</td>\n",
       "      <td>3.49</td>\n",
       "      <td>687</td>\n",
       "      <td>Online</td>\n",
       "      <td>Gift Card</td>\n",
       "      <td>Joao Silva</td>\n",
       "      <td>Lisbon</td>\n",
       "    </tr>\n",
       "    <tr>\n",
       "      <th>102</th>\n",
       "      <td>10561</td>\n",
       "      <td>2022-11-29</td>\n",
       "      <td>Chicken Sandwiches</td>\n",
       "      <td>9.95</td>\n",
       "      <td>201</td>\n",
       "      <td>Online</td>\n",
       "      <td>Credit Card</td>\n",
       "      <td>Tom Jackson</td>\n",
       "      <td>London</td>\n",
       "    </tr>\n",
       "    <tr>\n",
       "      <th>160</th>\n",
       "      <td>10619</td>\n",
       "      <td>2022-12-10</td>\n",
       "      <td>Sides &amp; Other</td>\n",
       "      <td>4.99</td>\n",
       "      <td>200</td>\n",
       "      <td>Online</td>\n",
       "      <td>Gift Card</td>\n",
       "      <td>Tom Jackson</td>\n",
       "      <td>London</td>\n",
       "    </tr>\n",
       "    <tr>\n",
       "      <th>150</th>\n",
       "      <td>10609</td>\n",
       "      <td>2022-12-08</td>\n",
       "      <td>Sides &amp; Other</td>\n",
       "      <td>4.99</td>\n",
       "      <td>200</td>\n",
       "      <td>Online</td>\n",
       "      <td>Gift Card</td>\n",
       "      <td>Tom Jackson</td>\n",
       "      <td>London</td>\n",
       "    </tr>\n",
       "    <tr>\n",
       "      <th>190</th>\n",
       "      <td>10649</td>\n",
       "      <td>2022-12-16</td>\n",
       "      <td>Sides &amp; Other</td>\n",
       "      <td>4.99</td>\n",
       "      <td>200</td>\n",
       "      <td>Online</td>\n",
       "      <td>Gift Card</td>\n",
       "      <td>Joao Silva</td>\n",
       "      <td>Lisbon</td>\n",
       "    </tr>\n",
       "    <tr>\n",
       "      <th>3</th>\n",
       "      <td>10454</td>\n",
       "      <td>2022-11-07</td>\n",
       "      <td>Sides &amp; Other</td>\n",
       "      <td>4.99</td>\n",
       "      <td>200</td>\n",
       "      <td>In-store</td>\n",
       "      <td>Gift Card</td>\n",
       "      <td>Joao    Silva</td>\n",
       "      <td>Lisbon</td>\n",
       "    </tr>\n",
       "    <tr>\n",
       "      <th>25</th>\n",
       "      <td>10478</td>\n",
       "      <td>2022-11-12</td>\n",
       "      <td>Beverages</td>\n",
       "      <td>2.95</td>\n",
       "      <td>677</td>\n",
       "      <td>In-store</td>\n",
       "      <td>Credit Card</td>\n",
       "      <td>Pablo Perez</td>\n",
       "      <td>Madrid</td>\n",
       "    </tr>\n",
       "    <tr>\n",
       "      <th>48</th>\n",
       "      <td>10504</td>\n",
       "      <td>2022-11-17</td>\n",
       "      <td>Sides &amp; Other</td>\n",
       "      <td>4.99</td>\n",
       "      <td>200</td>\n",
       "      <td>Drive-thru</td>\n",
       "      <td>Credit Card</td>\n",
       "      <td>Pablo Perez</td>\n",
       "      <td>Madrid</td>\n",
       "    </tr>\n",
       "    <tr>\n",
       "      <th>185</th>\n",
       "      <td>10644</td>\n",
       "      <td>2022-12-15</td>\n",
       "      <td>Sides &amp; Other</td>\n",
       "      <td>4.99</td>\n",
       "      <td>200</td>\n",
       "      <td>Online</td>\n",
       "      <td>Cash</td>\n",
       "      <td>Joao Silva</td>\n",
       "      <td>Lisbon</td>\n",
       "    </tr>\n",
       "  </tbody>\n",
       "</table>\n",
       "</div>"
      ],
      "text/plain": [
       "0    Order ID       Date             Product  Price  Quantity Purchase Type  \\\n",
       "201     10660 2022-12-19             Burgers  12.99       631     In-store    \n",
       "193     10652 2022-12-17               Fries   3.49       687       Online    \n",
       "102     10561 2022-11-29  Chicken Sandwiches   9.95       201       Online    \n",
       "160     10619 2022-12-10       Sides & Other   4.99       200       Online    \n",
       "150     10609 2022-12-08       Sides & Other   4.99       200       Online    \n",
       "190     10649 2022-12-16       Sides & Other   4.99       200       Online    \n",
       "3       10454 2022-11-07       Sides & Other   4.99       200     In-store    \n",
       "25      10478 2022-11-12           Beverages   2.95       677     In-store    \n",
       "48      10504 2022-11-17       Sides & Other   4.99       200   Drive-thru    \n",
       "185     10644 2022-12-15       Sides & Other   4.99       200       Online    \n",
       "\n",
       "0   Payment Method        Manager    City  \n",
       "201           Cash     Joao Silva  Lisbon  \n",
       "193      Gift Card     Joao Silva  Lisbon  \n",
       "102    Credit Card    Tom Jackson  London  \n",
       "160      Gift Card    Tom Jackson  London  \n",
       "150      Gift Card    Tom Jackson  London  \n",
       "190      Gift Card     Joao Silva  Lisbon  \n",
       "3        Gift Card  Joao    Silva  Lisbon  \n",
       "25     Credit Card    Pablo Perez  Madrid  \n",
       "48     Credit Card    Pablo Perez  Madrid  \n",
       "185           Cash     Joao Silva  Lisbon  "
      ]
     },
     "execution_count": 30,
     "metadata": {},
     "output_type": "execute_result"
    }
   ],
   "source": [
    "df.sample(10)"
   ]
  },
  {
   "cell_type": "code",
   "execution_count": 31,
   "metadata": {},
   "outputs": [
    {
     "data": {
      "text/plain": [
       "Product\n",
       "Beverages             34938\n",
       "Burgers               28996\n",
       "Chicken Sandwiches    11132\n",
       "Fries                 32016\n",
       "Sides & Other          9800\n",
       "Name: Quantity, dtype: int64"
      ]
     },
     "execution_count": 31,
     "metadata": {},
     "output_type": "execute_result"
    }
   ],
   "source": [
    "df.groupby('Product')['Quantity'].sum()"
   ]
  },
  {
   "cell_type": "code",
   "execution_count": 32,
   "metadata": {},
   "outputs": [
    {
     "data": {
      "image/png": "[encoded data removed]",
      "text/plain": [
       "<Figure size 800x400 with 1 Axes>"
      ]
     },
     "metadata": {},
     "output_type": "display_data"
    }
   ],
   "source": [
    "#sorting values discending\n",
    "most_quantity = df.groupby('Product')['Quantity'].sum().sort_values(ascending=False)\n",
    "#changing type to dataframe\n",
    "most_quantity = most_quantity.reset_index()\n",
    "#plotting the df to a bar chart\n",
    "plt.figure(figsize=(8,4))\n",
    "plt.bar(most_quantity['Product'],most_quantity['Quantity'],width=0.3)\n",
    "plt.title('Most Selling Pruducts - By Quantity')\n",
    "plt.xlabel(\"Pruducts\")\n",
    "plt.ylabel(\"Quantity\")\n",
    "plt.show()"
   ]
  },
  {
   "cell_type": "code",
   "execution_count": 33,
   "metadata": {},
   "outputs": [],
   "source": [
    "df['Revenue'] = df['Price'] * df['Quantity'] #creating a new column Revenue"
   ]
  },
  {
   "cell_type": "code",
   "execution_count": 34,
   "metadata": {},
   "outputs": [
    {
     "data": {
      "image/png": "[encoded data removed]",
      "text/plain": [
       "<Figure size 1000x400 with 1 Axes>"
      ]
     },
     "metadata": {},
     "output_type": "display_data"
    }
   ],
   "source": [
    "df['Revenue'] = df['Price'] * df['Quantity'] #creating a new column Revenue\n",
    "#creating revenue df\n",
    "most_revenue = df.groupby('Product')['Revenue'].sum().sort_values(ascending=False)\n",
    "most_revenue = most_revenue.reset_index()   #chaning type to dataframe\n",
    "#plotting the df to a bar chart\n",
    "plt.figure(figsize=(10,4))\n",
    "plt.bar(most_revenue['Product'],most_revenue['Revenue'],width=0.3)\n",
    "plt.title('Most Selling Pruducts - By Revenue')\n",
    "plt.xlabel(\"Pruducts\")\n",
    "plt.ylabel(\"Revenue\")\n",
    "plt.show()"
   ]
  },
  {
   "cell_type": "markdown",
   "metadata": {},
   "source": [
    "Wich city had maximum revenue and Wich Manager earned maximum revenue\n"
   ]
  },
  {
   "cell_type": "code",
   "execution_count": 35,
   "metadata": {},
   "outputs": [
    {
     "data": {
      "text/plain": [
       "5"
      ]
     },
     "execution_count": 35,
     "metadata": {},
     "output_type": "execute_result"
    }
   ],
   "source": [
    "df.City.nunique()"
   ]
  },
  {
   "cell_type": "code",
   "execution_count": 36,
   "metadata": {},
   "outputs": [
    {
     "data": {
      "text/plain": [
       "City\n",
       "London    75\n",
       "Lisbon    75\n",
       "Madrid    46\n",
       "Berlin    30\n",
       "Paris     28\n",
       "Name: count, dtype: int64"
      ]
     },
     "execution_count": 36,
     "metadata": {},
     "output_type": "execute_result"
    }
   ],
   "source": [
    "\n",
    "df.City.value_counts()"
   ]
  },
  {
   "cell_type": "code",
   "execution_count": 37,
   "metadata": {},
   "outputs": [
    {
     "data": {
      "text/plain": [
       "City\n",
       "Lisbon    241509.38\n",
       "London    211001.83\n",
       "Madrid    136098.22\n",
       "Berlin    100492.73\n",
       "Paris      79729.62\n",
       "Name: Revenue, dtype: float64"
      ]
     },
     "execution_count": 37,
     "metadata": {},
     "output_type": "execute_result"
    }
   ],
   "source": [
    "df.groupby('City')['Revenue'].sum().sort_values(ascending=False)"
   ]
  },
  {
   "cell_type": "code",
   "execution_count": 60,
   "metadata": {},
   "outputs": [
    {
     "data": {
      "text/plain": [
       "5"
      ]
     },
     "execution_count": 60,
     "metadata": {},
     "output_type": "execute_result"
    }
   ],
   "source": [
    "df.Manager.nunique()"
   ]
  },
  {
   "cell_type": "code",
   "execution_count": 61,
   "metadata": {},
   "outputs": [
    {
     "data": {
      "text/plain": [
       "array(['Tom Jackson', 'Pablo Perez', 'Joao Silva', 'Walter Muller',\n",
       "       'Remy Monet'], dtype=object)"
      ]
     },
     "execution_count": 61,
     "metadata": {},
     "output_type": "execute_result"
    }
   ],
   "source": [
    "df.Manager.unique()"
   ]
  },
  {
   "cell_type": "code",
   "execution_count": 62,
   "metadata": {},
   "outputs": [
    {
     "data": {
      "text/plain": [
       "5"
      ]
     },
     "execution_count": 62,
     "metadata": {},
     "output_type": "execute_result"
    }
   ],
   "source": [
    "df.Manager.nunique()"
   ]
  },
  {
   "cell_type": "code",
   "execution_count": 63,
   "metadata": {},
   "outputs": [
    {
     "data": {
      "text/plain": [
       "Manager\n",
       "Joao Silva       241509.38\n",
       "Tom Jackson      211001.83\n",
       "Pablo Perez      136098.22\n",
       "Walter Muller    100492.73\n",
       "Remy Monet        79729.62\n",
       "Name: Revenue, dtype: float64"
      ]
     },
     "execution_count": 63,
     "metadata": {},
     "output_type": "execute_result"
    }
   ],
   "source": [
    "df.groupby('Manager')['Revenue'].sum().sort_values(ascending=False)"
   ]
  },
  {
   "cell_type": "markdown",
   "metadata": {},
   "source": [
    "# Date Wise Revenue"
   ]
  },
  {
   "cell_type": "code",
   "execution_count": 64,
   "metadata": {},
   "outputs": [
    {
     "data": {
      "text/plain": [
       "dtype('<M8[ns]')"
      ]
     },
     "execution_count": 64,
     "metadata": {},
     "output_type": "execute_result"
    }
   ],
   "source": [
    "df.Date.dtype"
   ]
  },
  {
   "cell_type": "code",
   "execution_count": 65,
   "metadata": {},
   "outputs": [
    {
     "name": "stdout",
     "output_type": "stream",
     "text": [
      "<class 'pandas.core.frame.DataFrame'>\n",
      "RangeIndex: 254 entries, 1 to 254\n",
      "Data columns (total 10 columns):\n",
      " #   Column          Non-Null Count  Dtype         \n",
      "---  ------          --------------  -----         \n",
      " 0   Order ID        254 non-null    int64         \n",
      " 1   Date            254 non-null    datetime64[ns]\n",
      " 2   Product         254 non-null    object        \n",
      " 3   Price           254 non-null    float64       \n",
      " 4   Quantity        254 non-null    int64         \n",
      " 5   Purchase Type   254 non-null    object        \n",
      " 6   Payment Method  254 non-null    object        \n",
      " 7   Manager         254 non-null    object        \n",
      " 8   City            254 non-null    object        \n",
      " 9   Revenue         254 non-null    float64       \n",
      "dtypes: datetime64[ns](1), float64(2), int64(2), object(5)\n",
      "memory usage: 20.0+ KB\n"
     ]
    }
   ],
   "source": [
    "df.info()"
   ]
  },
  {
   "cell_type": "code",
   "execution_count": 67,
   "metadata": {},
   "outputs": [
    {
     "data": {
      "text/plain": [
       "<Axes: xlabel='Date'>"
      ]
     },
     "execution_count": 67,
     "metadata": {},
     "output_type": "execute_result"
    },
    {
     "data": {
      "image/png": "[encoded data removed]",
      "text/plain": [
       "<Figure size 1000x500 with 1 Axes>"
      ]
     },
     "metadata": {},
     "output_type": "display_data"
    }
   ],
   "source": [
    "df.plot('Date','Revenue',linewidth=2, figsize=(10,5))"
   ]
  },
  {
   "cell_type": "markdown",
   "metadata": {},
   "source": [
    "# Avarage Revenue"
   ]
  },
  {
   "cell_type": "code",
   "execution_count": 68,
   "metadata": {},
   "outputs": [
    {
     "data": {
      "text/plain": [
       "np.float64(3026.8967716535435)"
      ]
     },
     "execution_count": 68,
     "metadata": {},
     "output_type": "execute_result"
    }
   ],
   "source": [
    "df['Revenue'].mean()"
   ]
  },
  {
   "cell_type": "markdown",
   "metadata": {},
   "source": [
    "# Avarege Revenue fo Novembr & December "
   ]
  },
  {
   "cell_type": "code",
   "execution_count": 69,
   "metadata": {},
   "outputs": [],
   "source": [
    "df[\"Month\"] = df[\"Date\"].dt.month"
   ]
  },
  {
   "cell_type": "code",
   "execution_count": 70,
   "metadata": {},
   "outputs": [
    {
     "data": {
      "application/vnd.microsoft.datawrangler.viewer.v0+json": {
       "columns": [
        {
         "name": "index",
         "rawType": "int64",
         "type": "integer"
        },
        {
         "name": "Order ID",
         "rawType": "int64",
         "type": "integer"
        },
        {
         "name": "Date",
         "rawType": "datetime64[ns]",
         "type": "datetime"
        },
        {
         "name": "Product",
         "rawType": "object",
         "type": "string"
        },
        {
         "name": "Price",
         "rawType": "float64",
         "type": "float"
        },
        {
         "name": "Quantity",
         "rawType": "int64",
         "type": "integer"
        },
        {
         "name": "Purchase Type",
         "rawType": "object",
         "type": "string"
        },
        {
         "name": "Payment Method",
         "rawType": "object",
         "type": "string"
        },
        {
         "name": "Manager",
         "rawType": "object",
         "type": "string"
        },
        {
         "name": "City",
         "rawType": "object",
         "type": "string"
        },
        {
         "name": "Revenue",
         "rawType": "float64",
         "type": "float"
        },
        {
         "name": "Month",
         "rawType": "int32",
         "type": "integer"
        }
       ],
       "conversionMethod": "pd.DataFrame",
       "ref": "ffec7316-32c8-4cca-97f1-151408cb3257",
       "rows": [
        [
         "41",
         "10497",
         "2022-11-16 00:00:00",
         "Fries",
         "3.49",
         "573",
         "In-store ",
         " Credit Card",
         "Pablo Perez",
         "Madrid",
         "1999.7700000000002",
         "11"
        ],
        [
         "177",
         "10636",
         "2022-12-14 00:00:00",
         "Chicken Sandwiches",
         "9.95",
         "221",
         "Online ",
         " Gift Card",
         "Joao Silva",
         "Lisbon",
         "2198.95",
         "12"
        ],
        [
         "114",
         "10573",
         "2022-12-01 00:00:00",
         "Beverages",
         "2.95",
         "677",
         "Online ",
         " Credit Card",
         "Remy Monet",
         "Paris",
         "1997.15",
         "12"
        ],
        [
         "228",
         "10687",
         "2022-12-24 00:00:00",
         "Fries",
         "3.49",
         "630",
         "In-store ",
         " Cash",
         "Walter Muller",
         "Berlin",
         "2198.7000000000003",
         "12"
        ],
        [
         "212",
         "10671",
         "2022-12-21 00:00:00",
         "Chicken Sandwiches",
         "9.95",
         "221",
         "In-store ",
         " Cash",
         "Joao Silva",
         "Lisbon",
         "2198.95",
         "12"
        ]
       ],
       "shape": {
        "columns": 11,
        "rows": 5
       }
      },
      "text/html": [
       "<div>\n",
       "<style scoped>\n",
       "    .dataframe tbody tr th:only-of-type {\n",
       "        vertical-align: middle;\n",
       "    }\n",
       "\n",
       "    .dataframe tbody tr th {\n",
       "        vertical-align: top;\n",
       "    }\n",
       "\n",
       "    .dataframe thead th {\n",
       "        text-align: right;\n",
       "    }\n",
       "</style>\n",
       "<table border=\"1\" class=\"dataframe\">\n",
       "  <thead>\n",
       "    <tr style=\"text-align: right;\">\n",
       "      <th></th>\n",
       "      <th>Order ID</th>\n",
       "      <th>Date</th>\n",
       "      <th>Product</th>\n",
       "      <th>Price</th>\n",
       "      <th>Quantity</th>\n",
       "      <th>Purchase Type</th>\n",
       "      <th>Payment Method</th>\n",
       "      <th>Manager</th>\n",
       "      <th>City</th>\n",
       "      <th>Revenue</th>\n",
       "      <th>Month</th>\n",
       "    </tr>\n",
       "  </thead>\n",
       "  <tbody>\n",
       "    <tr>\n",
       "      <th>41</th>\n",
       "      <td>10497</td>\n",
       "      <td>2022-11-16</td>\n",
       "      <td>Fries</td>\n",
       "      <td>3.49</td>\n",
       "      <td>573</td>\n",
       "      <td>In-store</td>\n",
       "      <td>Credit Card</td>\n",
       "      <td>Pablo Perez</td>\n",
       "      <td>Madrid</td>\n",
       "      <td>1999.77</td>\n",
       "      <td>11</td>\n",
       "    </tr>\n",
       "    <tr>\n",
       "      <th>177</th>\n",
       "      <td>10636</td>\n",
       "      <td>2022-12-14</td>\n",
       "      <td>Chicken Sandwiches</td>\n",
       "      <td>9.95</td>\n",
       "      <td>221</td>\n",
       "      <td>Online</td>\n",
       "      <td>Gift Card</td>\n",
       "      <td>Joao Silva</td>\n",
       "      <td>Lisbon</td>\n",
       "      <td>2198.95</td>\n",
       "      <td>12</td>\n",
       "    </tr>\n",
       "    <tr>\n",
       "      <th>114</th>\n",
       "      <td>10573</td>\n",
       "      <td>2022-12-01</td>\n",
       "      <td>Beverages</td>\n",
       "      <td>2.95</td>\n",
       "      <td>677</td>\n",
       "      <td>Online</td>\n",
       "      <td>Credit Card</td>\n",
       "      <td>Remy Monet</td>\n",
       "      <td>Paris</td>\n",
       "      <td>1997.15</td>\n",
       "      <td>12</td>\n",
       "    </tr>\n",
       "    <tr>\n",
       "      <th>228</th>\n",
       "      <td>10687</td>\n",
       "      <td>2022-12-24</td>\n",
       "      <td>Fries</td>\n",
       "      <td>3.49</td>\n",
       "      <td>630</td>\n",
       "      <td>In-store</td>\n",
       "      <td>Cash</td>\n",
       "      <td>Walter Muller</td>\n",
       "      <td>Berlin</td>\n",
       "      <td>2198.70</td>\n",
       "      <td>12</td>\n",
       "    </tr>\n",
       "    <tr>\n",
       "      <th>212</th>\n",
       "      <td>10671</td>\n",
       "      <td>2022-12-21</td>\n",
       "      <td>Chicken Sandwiches</td>\n",
       "      <td>9.95</td>\n",
       "      <td>221</td>\n",
       "      <td>In-store</td>\n",
       "      <td>Cash</td>\n",
       "      <td>Joao Silva</td>\n",
       "      <td>Lisbon</td>\n",
       "      <td>2198.95</td>\n",
       "      <td>12</td>\n",
       "    </tr>\n",
       "  </tbody>\n",
       "</table>\n",
       "</div>"
      ],
      "text/plain": [
       "0    Order ID       Date             Product  Price  Quantity Purchase Type  \\\n",
       "41      10497 2022-11-16               Fries   3.49       573     In-store    \n",
       "177     10636 2022-12-14  Chicken Sandwiches   9.95       221       Online    \n",
       "114     10573 2022-12-01           Beverages   2.95       677       Online    \n",
       "228     10687 2022-12-24               Fries   3.49       630     In-store    \n",
       "212     10671 2022-12-21  Chicken Sandwiches   9.95       221     In-store    \n",
       "\n",
       "0   Payment Method        Manager    City  Revenue  Month  \n",
       "41     Credit Card    Pablo Perez  Madrid  1999.77     11  \n",
       "177      Gift Card     Joao Silva  Lisbon  2198.95     12  \n",
       "114    Credit Card     Remy Monet   Paris  1997.15     12  \n",
       "228           Cash  Walter Muller  Berlin  2198.70     12  \n",
       "212           Cash     Joao Silva  Lisbon  2198.95     12  "
      ]
     },
     "execution_count": 70,
     "metadata": {},
     "output_type": "execute_result"
    }
   ],
   "source": [
    "df.sample(5)"
   ]
  },
  {
   "cell_type": "code",
   "execution_count": 71,
   "metadata": {},
   "outputs": [],
   "source": [
    "nov = df[df[\"Month\"] == 11]"
   ]
  },
  {
   "cell_type": "code",
   "execution_count": 72,
   "metadata": {},
   "outputs": [
    {
     "data": {
      "text/plain": [
       "np.float64(2936.6534513274337)"
      ]
     },
     "execution_count": 72,
     "metadata": {},
     "output_type": "execute_result"
    }
   ],
   "source": [
    "nov.Revenue.mean()"
   ]
  },
  {
   "cell_type": "code",
   "execution_count": 73,
   "metadata": {},
   "outputs": [],
   "source": [
    "dec = df[df[\"Month\"] == 12]"
   ]
  },
  {
   "cell_type": "code",
   "execution_count": 74,
   "metadata": {},
   "outputs": [
    {
     "data": {
      "text/plain": [
       "np.float64(3099.2194326241133)"
      ]
     },
     "execution_count": 74,
     "metadata": {},
     "output_type": "execute_result"
    }
   ],
   "source": [
    "dec.Revenue.mean()"
   ]
  },
  {
   "cell_type": "markdown",
   "metadata": {},
   "source": [
    "# Standard Devition of Revenue and Quantity"
   ]
  },
  {
   "cell_type": "code",
   "execution_count": 75,
   "metadata": {},
   "outputs": [
    {
     "data": {
      "text/plain": [
       "np.float64(214.69197583196453)"
      ]
     },
     "execution_count": 75,
     "metadata": {},
     "output_type": "execute_result"
    }
   ],
   "source": [
    "df['Quantity'].std()"
   ]
  },
  {
   "cell_type": "code",
   "execution_count": 76,
   "metadata": {},
   "outputs": [
    {
     "data": {
      "text/plain": [
       "np.float64(2418.193128210548)"
      ]
     },
     "execution_count": 76,
     "metadata": {},
     "output_type": "execute_result"
    }
   ],
   "source": [
    "df['Revenue'].std()"
   ]
  },
  {
   "cell_type": "markdown",
   "metadata": {},
   "source": [
    "# Variance of Revenue and Quantity"
   ]
  },
  {
   "cell_type": "code",
   "execution_count": 77,
   "metadata": {},
   "outputs": [
    {
     "data": {
      "text/plain": [
       "np.float64(46092.644486632846)"
      ]
     },
     "execution_count": 77,
     "metadata": {},
     "output_type": "execute_result"
    }
   ],
   "source": [
    "df['Quantity'].var()"
   ]
  },
  {
   "cell_type": "code",
   "execution_count": 78,
   "metadata": {},
   "outputs": [
    {
     "data": {
      "text/plain": [
       "np.float64(2418.193128210548)"
      ]
     },
     "execution_count": 78,
     "metadata": {},
     "output_type": "execute_result"
    }
   ],
   "source": [
    "df['Revenue'].std()"
   ]
  },
  {
   "cell_type": "markdown",
   "metadata": {},
   "source": [
    "# Is revenue icreasing or Decreasing over time"
   ]
  },
  {
   "cell_type": "code",
   "execution_count": 79,
   "metadata": {},
   "outputs": [
    {
     "data": {
      "text/plain": [
       "np.float64(331841.84)"
      ]
     },
     "execution_count": 79,
     "metadata": {},
     "output_type": "execute_result"
    }
   ],
   "source": [
    "nov[\"Revenue\"].sum()"
   ]
  },
  {
   "cell_type": "code",
   "execution_count": 80,
   "metadata": {},
   "outputs": [
    {
     "data": {
      "text/plain": [
       "np.float64(436989.94)"
      ]
     },
     "execution_count": 80,
     "metadata": {},
     "output_type": "execute_result"
    }
   ],
   "source": [
    "dec[\"Revenue\"].sum()"
   ]
  },
  {
   "cell_type": "markdown",
   "metadata": {},
   "source": [
    "# Average Quantity & Revenue sold for Each Product "
   ]
  },
  {
   "cell_type": "code",
   "execution_count": 84,
   "metadata": {},
   "outputs": [
    {
     "data": {
      "application/vnd.microsoft.datawrangler.viewer.v0+json": {
       "columns": [
        {
         "name": "Product",
         "rawType": "object",
         "type": "string"
        },
        {
         "name": "Quantity",
         "rawType": "float64",
         "type": "float"
        },
        {
         "name": "Revenue",
         "rawType": "float64",
         "type": "float"
        }
       ],
       "conversionMethod": "pd.DataFrame",
       "ref": "63360f38-09ab-4209-952e-7801c4c8ff95",
       "rows": [
        [
         "Beverages",
         "698.76",
         "2061.342"
        ],
        [
         "Burgers",
         "557.6153846153846",
         "7243.423846153847"
        ],
        [
         "Chicken Sandwiches",
         "214.07692307692307",
         "2203.8942307692305"
        ],
        [
         "Fries",
         "627.7647058823529",
         "2462.7870588235296"
        ],
        [
         "Sides & Other",
         "200.0",
         "998.0"
        ]
       ],
       "shape": {
        "columns": 2,
        "rows": 5
       }
      },
      "text/html": [
       "<div>\n",
       "<style scoped>\n",
       "    .dataframe tbody tr th:only-of-type {\n",
       "        vertical-align: middle;\n",
       "    }\n",
       "\n",
       "    .dataframe tbody tr th {\n",
       "        vertical-align: top;\n",
       "    }\n",
       "\n",
       "    .dataframe thead th {\n",
       "        text-align: right;\n",
       "    }\n",
       "</style>\n",
       "<table border=\"1\" class=\"dataframe\">\n",
       "  <thead>\n",
       "    <tr style=\"text-align: right;\">\n",
       "      <th></th>\n",
       "      <th>Quantity</th>\n",
       "      <th>Revenue</th>\n",
       "    </tr>\n",
       "    <tr>\n",
       "      <th>Product</th>\n",
       "      <th></th>\n",
       "      <th></th>\n",
       "    </tr>\n",
       "  </thead>\n",
       "  <tbody>\n",
       "    <tr>\n",
       "      <th>Beverages</th>\n",
       "      <td>698.760000</td>\n",
       "      <td>2061.342000</td>\n",
       "    </tr>\n",
       "    <tr>\n",
       "      <th>Burgers</th>\n",
       "      <td>557.615385</td>\n",
       "      <td>7243.423846</td>\n",
       "    </tr>\n",
       "    <tr>\n",
       "      <th>Chicken Sandwiches</th>\n",
       "      <td>214.076923</td>\n",
       "      <td>2203.894231</td>\n",
       "    </tr>\n",
       "    <tr>\n",
       "      <th>Fries</th>\n",
       "      <td>627.764706</td>\n",
       "      <td>2462.787059</td>\n",
       "    </tr>\n",
       "    <tr>\n",
       "      <th>Sides &amp; Other</th>\n",
       "      <td>200.000000</td>\n",
       "      <td>998.000000</td>\n",
       "    </tr>\n",
       "  </tbody>\n",
       "</table>\n",
       "</div>"
      ],
      "text/plain": [
       "0                     Quantity      Revenue\n",
       "Product                                    \n",
       "Beverages           698.760000  2061.342000\n",
       "Burgers             557.615385  7243.423846\n",
       "Chicken Sandwiches  214.076923  2203.894231\n",
       "Fries               627.764706  2462.787059\n",
       "Sides & Other       200.000000   998.000000"
      ]
     },
     "execution_count": 84,
     "metadata": {},
     "output_type": "execute_result"
    }
   ],
   "source": [
    "df.groupby(\"Product\").agg({'Quantity':'mean','Revenue':'mean'})"
   ]
  }
 ],
 "metadata": {
  "kernelspec": {
   "display_name": ".venv",
   "language": "python",
   "name": "python3"
  },
  "language_info": {
   "codemirror_mode": {
    "name": "ipython",
    "version": 3
   },
   "file_extension": ".py",
   "mimetype": "text/x-python",
   "name": "python",
   "nbconvert_exporter": "python",
   "pygments_lexer": "ipython3",
   "version": "3.11.9"
  }
 },
 "nbformat": 4,
 "nbformat_minor": 2
}
